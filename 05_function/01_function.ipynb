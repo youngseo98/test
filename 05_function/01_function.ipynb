{
 "cells": [
  {
   "cell_type": "markdown",
   "metadata": {},
   "source": [
    "### 함수"
   ]
  },
  {
   "cell_type": "code",
   "execution_count": 42,
   "metadata": {},
   "outputs": [],
   "source": [
    "def print_greeting():\n",
    "    print(\"좋은 아침입니다:) Merry Christmas!\")\n",
    "\n",
    "    # return\n",
    "\n",
    "    # print('출력을 하나 더 해볼게요~~~~')"
   ]
  },
  {
   "cell_type": "code",
   "execution_count": 32,
   "metadata": {},
   "outputs": [
    {
     "name": "stdout",
     "output_type": "stream",
     "text": [
      "좋은 아침입니다:) Merry Christmas!\n"
     ]
    }
   ],
   "source": [
    "# 파라미터 x, return o -> \"좋은 아침입니다:) Merry Christmas!\" 반환함함\n",
    "\n",
    "def print_geeting():\n",
    "    return f\"좋은 아침입니다:) Merry Christmas!\"\n",
    "\n",
    "print_greeting()"
   ]
  },
  {
   "cell_type": "code",
   "execution_count": 22,
   "metadata": {},
   "outputs": [],
   "source": [
    "def return_greeting():\n",
    "    return \"좋은 아침입니다:) Merry Christmas!\"\n",
    "\n"
   ]
  },
  {
   "cell_type": "code",
   "execution_count": 61,
   "metadata": {},
   "outputs": [],
   "source": [
    "# 파라미터 o, return x -> print_greeting 과 같은 기능, 파라미터로 인사할 사람 이름 \n",
    "# \"(이름)\"님, \"좋은 아침입니다:) Merry Christmas!\"\n",
    "\n",
    "def print_name_greeting(name = '홍길동'):\n",
    "    print(f\"{name}님, 좋은 아침입니다. :) Merry Christmas!\")\n"
   ]
  },
  {
   "cell_type": "code",
   "execution_count": 76,
   "metadata": {},
   "outputs": [],
   "source": [
    "# 파라미터 o, return o -> 파라미터로 인사할 사람 이름\n",
    "# \"(이름)\"님, \"좋은 아침입니다:) Merry Christmas!\" 반환환\n",
    "def return_name_greeting(name, time):\n",
    "    return f\"{name}님, 좋은 {time}입니다:) Merry Christmas!\"\n",
    "\n",
    "\n"
   ]
  },
  {
   "cell_type": "code",
   "execution_count": 81,
   "metadata": {},
   "outputs": [
    {
     "name": "stdout",
     "output_type": "stream",
     "text": [
      "다람쥐님, 좋은 아침입니다:) Merry Christmas!\n",
      "호랑이님, 좋은 점심입니다:) Merry Christmas!\n",
      "상어님, 좋은 저녁입니다:) Merry Christmas!\n",
      "토끼님, 좋은 간식시간입니다:) Merry Christmas!\n"
     ]
    }
   ],
   "source": [
    "print(return_name_greeting('다람쥐', '아침'))\n",
    "print(return_name_greeting(name = '호랑이',time = '점심'))\n",
    "print(return_name_greeting(time = '저녁', name = '상어'))\n",
    "print(return_name_greeting('토끼', time = '간식시간'))\n",
    "# print(return_name_greeting(name = '매', '노을지는 시간')) # 키워드 인자 다음에 위치 인자는 올 수 없다."
   ]
  },
  {
   "cell_type": "code",
   "execution_count": 43,
   "metadata": {},
   "outputs": [
    {
     "name": "stdout",
     "output_type": "stream",
     "text": [
      "좋은 아침입니다:) Merry Christmas!\n"
     ]
    }
   ],
   "source": [
    "print_greeting() \n",
    "#print(print_greeting())"
   ]
  },
  {
   "cell_type": "code",
   "execution_count": 26,
   "metadata": {},
   "outputs": [
    {
     "name": "stdout",
     "output_type": "stream",
     "text": [
      "좋은 아침입니다:) Merry Christmas!\n",
      "좋은 아침입니다:) Merry Christmas!\n"
     ]
    }
   ],
   "source": [
    "greeting = return_greeting()\n",
    "print(greeting)\n",
    "\n",
    "print(return_greeting())"
   ]
  },
  {
   "cell_type": "code",
   "execution_count": 62,
   "metadata": {},
   "outputs": [
    {
     "name": "stdout",
     "output_type": "stream",
     "text": [
      "홍길동님, 좋은 아침입니다. :) Merry Christmas!\n"
     ]
    }
   ],
   "source": [
    "name_squirrel = '다람쥐'\n",
    "print_name_greeting()"
   ]
  },
  {
   "cell_type": "code",
   "execution_count": 82,
   "metadata": {},
   "outputs": [
    {
     "name": "stdout",
     "output_type": "stream",
     "text": [
      "100\n"
     ]
    }
   ],
   "source": [
    "# 숫자, 문자열 등 immutable 객체형에 대하여\n",
    "def f1(b):\n",
    "    b = 200\n",
    "\n",
    "a = 100\n",
    "f1(a)    # 매개변수 b에는 a의 값이 복사되어서 담긴다. a에 대한 영향이 없다.\n",
    "print(a) "
   ]
  },
  {
   "cell_type": "code",
   "execution_count": 83,
   "metadata": {},
   "outputs": [
    {
     "name": "stdout",
     "output_type": "stream",
     "text": [
      "abc\n"
     ]
    }
   ],
   "source": [
    "def f2(b):\n",
    "    b = \"def\"\n",
    "a = \"abc\"\n",
    "f2(a)\n",
    "print(a) "
   ]
  },
  {
   "cell_type": "code",
   "execution_count": 84,
   "metadata": {},
   "outputs": [
    {
     "name": "stdout",
     "output_type": "stream",
     "text": [
      "(1, 2, 3)\n"
     ]
    }
   ],
   "source": [
    "# 튜플도 immutable\n",
    "def f3(t):\n",
    "    t = (4,5,6)\n",
    "a = (1,2,3)\n",
    "f3(a)\n",
    "print(a) "
   ]
  },
  {
   "cell_type": "code",
   "execution_count": 85,
   "metadata": {},
   "outputs": [
    {
     "name": "stdout",
     "output_type": "stream",
     "text": [
      "[100, 2, 3]\n"
     ]
    }
   ],
   "source": [
    "def f4(l):\n",
    "    l[0] = 100\n",
    "\n",
    "l = [1,2,3]\n",
    "f4(l)\n",
    "print(l)\n"
   ]
  },
  {
   "cell_type": "code",
   "execution_count": 87,
   "metadata": {},
   "outputs": [
    {
     "name": "stdout",
     "output_type": "stream",
     "text": [
      "{'a': 100, 'b': 2}\n"
     ]
    }
   ],
   "source": [
    "def f5(d):\n",
    "    d['a'] = 100\n",
    "\n",
    "d = {'a':1, 'b':2}\n",
    "f5(d)\n",
    "print(d)"
   ]
  },
  {
   "cell_type": "code",
   "execution_count": null,
   "metadata": {},
   "outputs": [],
   "source": [
    "# 1. print() : 콘솔 출력 기능을 하는 함수\n",
    "# 2. input() : 콘솔을 통해 사용자 입력을 받아 문자열로 반환하는 함수\n",
    "# 3. type() : 인자로 전달된 값의 자료형을 반환하는 함수\n",
    "# 4. len() : 인자로 전달된 시퀀스 자료형의 요소의 갯수(길이)를 반환하는 함수\n",
    "# 5. int(), float(), str(), list(), dict() : 인자로 전달된 자료형을 특정 자료형으로 형 변환하여 반환하는 함수\n",
    "# 6. range() : 전달받은 인자에 따라 일정 범위의 숫자 시퀀스를 생성하여 반환하는 함수\n",
    "# 7. min(), max() : 인자로 전달된 시퀀스의 요소 중 가장 크거나 작은 값을 반환하는 함수\n",
    "# 8. sum() : 인자로 전달된 시퀀스 내 모든 요소의 합계를 반환하는 함수\n",
    "# 9. abs() : 절댓값을 반환하는 함수\n",
    "# 10. round() : 인자로 전달된 숫자를 반올림하는 함수\n",
    "\n",
    "# 고차함수 \n",
    "# 11. map() : 함수와 시퀀스를 인자로 받아, 시퀀스의 각 요소에 함수를 적용한 결과를 반환하는 함수\n",
    "# 12. filter() : 함수와 시퀀스를 인자로 받아, 시퀀스에서 함수의 조건을 만족하는 요소만 반환하는 함수\n",
    "# 13. pow() : 인자의 첫 번째 숫자를 두 번째 숫자로 거듭 제곱한 값을 반환하는 함수"
   ]
  },
  {
   "cell_type": "markdown",
   "metadata": {},
   "source": [
    "---\n",
    "### 패키징과 언패키징\n"
   ]
  },
  {
   "cell_type": "code",
   "execution_count": 89,
   "metadata": {},
   "outputs": [
    {
     "name": "stdout",
     "output_type": "stream",
     "text": [
      "다람쥐\n",
      "토끼\n",
      "호랑이\n",
      "늑대\n",
      "원숭이\n",
      "양\n"
     ]
    }
   ],
   "source": [
    "def call_animals(*animal_args):\n",
    "    for animal_name in animal_args:\n",
    "        print(animal_name)\n",
    "\n",
    "call_animals('다람쥐', '토끼', '호랑이', '늑대', '원숭이', '양')\n",
    "\n"
   ]
  },
  {
   "cell_type": "code",
   "execution_count": 92,
   "metadata": {},
   "outputs": [
    {
     "name": "stdout",
     "output_type": "stream",
     "text": [
      "2100\n"
     ]
    }
   ],
   "source": [
    "def multi_sum(num1, num2, num3, num4, num5):\n",
    "    return num1 + num2 + num3 + num4 + num5\n",
    "\n",
    "numbers = [2024, 12, 23, 11, 30]\n",
    "print(multi_sum(*numbers))\n"
   ]
  },
  {
   "cell_type": "markdown",
   "metadata": {},
   "source": [
    "---\n",
    "### 람다 (lambda)"
   ]
  },
  {
   "cell_type": "code",
   "execution_count": 95,
   "metadata": {},
   "outputs": [
    {
     "name": "stdout",
     "output_type": "stream",
     "text": [
      "8\n",
      "16\n"
     ]
    }
   ],
   "source": [
    "add = lambda x, y: x + y  \n",
    "print(add(3, 5))    # 8 \n",
    "\n",
    "def add(x,y):\n",
    "    return x+y \n",
    "\n",
    "print(add(9,7))\n"
   ]
  },
  {
   "cell_type": "markdown",
   "metadata": {},
   "source": [
    "---\n",
    "### 실습"
   ]
  },
  {
   "cell_type": "markdown",
   "metadata": {},
   "source": [
    "## **문제 1: 자기소개 하기**\n",
    "\n",
    "**\"다람쥐는 IT 회사 첫 출근 날, 자기소개를 준비했다.\"**\n",
    "\n",
    "1. `introduce()`라는 함수를 만들어 **\"안녕하세요, 저는 다람쥐 신입사원입니다!\"**라는 메시지를 출력하세요.\n",
    "2. 함수를 호출하여 다람쥐의 자기소개를 출력하세요."
   ]
  },
  {
   "cell_type": "code",
   "execution_count": 99,
   "metadata": {},
   "outputs": [
    {
     "name": "stdout",
     "output_type": "stream",
     "text": [
      "안녕하세요, 저는 다람쥐 신입사원 입니다!\n"
     ]
    }
   ],
   "source": [
    "def introduce():\n",
    "    print(\"안녕하세요, 저는 다람쥐 신입사원 입니다!\")\n",
    "\n",
    "introduce()"
   ]
  },
  {
   "cell_type": "markdown",
   "metadata": {},
   "source": [
    "## **문제 2: 출근 체크하기**\n",
    "\n",
    "**\"다람쥐는 출근할 때 출근부에 이름을 적어야 한다.\"**\n",
    "\n",
    "1. `check_in(name)`이라는 함수를 만들어 매개변수 `name`을 입력받아 다음과 같이 출력하세요.\n",
    "    - **\"[이름]님, 출근 체크 완료!\"**\n",
    "2. 함수를 호출해 **\"다람쥐\"**를 출근 체크하세요."
   ]
  },
  {
   "cell_type": "code",
   "execution_count": 101,
   "metadata": {},
   "outputs": [
    {
     "name": "stdout",
     "output_type": "stream",
     "text": [
      "다람쥐님, 출근 체크 완료!\n"
     ]
    }
   ],
   "source": [
    "def check_in(name):\n",
    "    return f\"{name}님, 출근 체크 완료!\"\n",
    "\n",
    "print(check_in('다람쥐'))"
   ]
  },
  {
   "cell_type": "markdown",
   "metadata": {},
   "source": [
    "## **문제 3: 업무 시간 계산하기**\n",
    "\n",
    "**\"다람쥐는 오늘 근무한 시간을 계산하고 싶다.\"**\n",
    "\n",
    "1. `work_hours(start, end)`라는 함수를 만들어 매개변수 `start`(출근 시간)와 `end`(퇴근 시간)를 입력받아 근무 시간을 계산하세요.\n",
    "    - 근무 시간 = `end - start`\n",
    "2. 반환된 근무 시간을 출력하세요.\n",
    "    - 출력 예시: **\"오늘 근무한 시간은 [근무 시간]시간입니다.\"**"
   ]
  },
  {
   "cell_type": "code",
   "execution_count": 145,
   "metadata": {},
   "outputs": [
    {
     "name": "stdout",
     "output_type": "stream",
     "text": [
      "오늘 근무한 시간은 9시간입니다.\n"
     ]
    }
   ],
   "source": [
    "def work_hours(start, end):\n",
    "    근무시간 = end - start\n",
    "    return f\"오늘 근무한 시간은 {근무시간}시간입니다.\"\n",
    "\n",
    "print(work_hours(9, 18))"
   ]
  },
  {
   "cell_type": "code",
   "execution_count": 144,
   "metadata": {},
   "outputs": [
    {
     "name": "stdout",
     "output_type": "stream",
     "text": [
      "오늘 근무한 시간은 9시간 입니다.\n"
     ]
    }
   ],
   "source": [
    "def work_hours(start, end):\n",
    "    return end - start\n",
    "\n",
    "print(f\"오늘 근무한 시간은 {work_hours(9, 18)}시간 입니다.\")"
   ]
  },
  {
   "cell_type": "markdown",
   "metadata": {},
   "source": [
    "## **문제 4: 점심 메뉴 추천**\n",
    "\n",
    "**\"점심시간, 다람쥐는 팀원들에게 점심 메뉴를 추천해준다.\"**\n",
    "\n",
    "1. `recommend_menu(*menus)`라는 함수를 만들어 여러 개의 점심 메뉴를 매개변수로 전달받으세요.\n",
    "2. 랜덤하게 하나의 메뉴를 선택하고 반환하세요.\n",
    "    - 출력 예시: **\"오늘의 점심 메뉴는 [선택된 메뉴]입니다!\"**\n",
    "    - 힌트: `random.choice()`를 사용하면 랜덤 선택이 가능합니다. (import random)"
   ]
  },
  {
   "cell_type": "code",
   "execution_count": 125,
   "metadata": {},
   "outputs": [
    {
     "name": "stdout",
     "output_type": "stream",
     "text": [
      "오늘의 점심메뉴는 돈까스입니다\n",
      "오늘의 점심메뉴는 제육볶음입니다\n",
      "오늘의 점심메뉴는 국밥입니다\n",
      "오늘의 점심메뉴는 김치찌개입니다\n"
     ]
    }
   ],
   "source": [
    "\n",
    "\n",
    "def recommend_menu(*menus):\n",
    "    menus = ['돈까스', '제육볶음', '국밥', '김치찌개']\n",
    "    for menu_name in menus:\n",
    "        print(f\"오늘의 점심메뉴는 {menu_name}입니다\")\n",
    "\n",
    "recommend_menu()\n",
    "\n"
   ]
  },
  {
   "cell_type": "code",
   "execution_count": 172,
   "metadata": {},
   "outputs": [
    {
     "name": "stdout",
     "output_type": "stream",
     "text": [
      "오늘의 점심메뉴는 돈까스입니다.\n"
     ]
    }
   ],
   "source": [
    "import random\n",
    "\n",
    "def recommend_menu(*menus):\n",
    "    return random.choice(menus)\n",
    "\n",
    "menus =['돈까스', '제육볶음', '국밥', '김치찌개']\n",
    "recommended_menu = recommend_menu(*menus)\n",
    "print(f\"오늘의 점심메뉴는 {recommended_menu}입니다.\")\n",
    "    "
   ]
  },
  {
   "cell_type": "code",
   "execution_count": 176,
   "metadata": {},
   "outputs": [
    {
     "name": "stdout",
     "output_type": "stream",
     "text": [
      "오늘의 점심메뉴는 제육볶음입니다.\n"
     ]
    }
   ],
   "source": [
    "import random\n",
    "\n",
    "def recommend_menu(*menus):\n",
    "    return random.choice(menus)\n",
    "\n",
    "recommended_menu = recommend_menu('돈까스', '제육볶음', '국밥', '김치찌개')\n",
    "print(f\"오늘의 점심메뉴는 {recommended_menu}입니다.\")\n",
    "    "
   ]
  },
  {
   "cell_type": "markdown",
   "metadata": {},
   "source": [
    "## **문제 5: 오후 커피 마시기**\n",
    "\n",
    "**\"오후에 졸린 다람쥐는 커피를 마시려고 한다.\"**\n",
    "\n",
    "1. `coffee_time()`이라는 함수를 만들어 다음과 같은 문자열을 반환하세요.\n",
    "    - **\"오후 3시입니다. 커피 한 잔 하세요!\"**\n",
    "2. 반환된 문자열을 출력하세요."
   ]
  },
  {
   "cell_type": "code",
   "execution_count": 177,
   "metadata": {},
   "outputs": [
    {
     "name": "stdout",
     "output_type": "stream",
     "text": [
      "오후 3시 입니다. 커피 한잔 하세요\n"
     ]
    }
   ],
   "source": [
    "def coffee_time():\n",
    "    print(\"오후 3시 입니다. 커피 한잔 하세요\")\n",
    "\n",
    "coffee_time()"
   ]
  },
  {
   "cell_type": "markdown",
   "metadata": {},
   "source": [
    "## **문제 6: 업무 성과 분석하기**\n",
    "\n",
    "**\"다람쥐는 오늘의 업무 성과를 보고해야 한다.\"**\n",
    "\n",
    "1. `work_report(tasks_done)`이라는 함수를 만들어 오늘 처리한 업무 수를 매개변수로 받으세요.\n",
    "2. 함수는 다음 두 값을 반환합니다.\n",
    "    - `tasks_done`: 처리한 업무 수\n",
    "    - `status`: 업무 성과 평가 (10개 이상: \"우수\", 5~9개: \"보통\", 4개 이하: \"노력 필요\")\n",
    "3. 반환된 값을 사용해 다음 메시지를 출력하세요.\n",
    "    - **\"오늘 처리한 업무는 [업무 수]개입니다. 성과 평가: [평가]\"**"
   ]
  },
  {
   "cell_type": "code",
   "execution_count": 206,
   "metadata": {},
   "outputs": [
    {
     "name": "stdout",
     "output_type": "stream",
     "text": [
      "오늘 처리한 업무는 9개 입니다. 성과 결과:보통\n"
     ]
    }
   ],
   "source": [
    "tasks_done = int(input(\"오늘 처리한 업무 수: \"))\n",
    "\n",
    "\n",
    "def work_report(tasks_done):\n",
    "    if tasks_done >= 10:\n",
    "        status = \"우수\"\n",
    "    elif 5 < tasks_done <= 9:\n",
    "        status = \"보통\"\n",
    "    else :\n",
    "        status = \"노력 필요\"\n",
    "    return f\"오늘 처리한 업무는 {tasks_done}개 입니다. 성과 결과:{status}\" \n",
    "\n",
    "print(work_report(tasks_done))\n",
    "\n",
    "\n"
   ]
  },
  {
   "cell_type": "code",
   "execution_count": 250,
   "metadata": {},
   "outputs": [
    {
     "name": "stdout",
     "output_type": "stream",
     "text": [
      "오늘 처리한 업무는 7개 입니다. 성과 결과:보통\n"
     ]
    }
   ],
   "source": [
    "tasks_done = 0\n",
    "\n",
    "def work_report (tasks_done):\n",
    "    status = ''\n",
    "    if tasks_done >= 10:\n",
    "        status = \"우수\"\n",
    "    elif tasks_done > 5 :\n",
    "        status = \"보통\"\n",
    "    else :\n",
    "        status = \"노력 필요\"\n",
    "    \n",
    "    return tasks_done, status \n",
    "\n",
    "\n",
    "tasks_done, status = work_report(7)\n",
    "\n",
    "print(f\"오늘 처리한 업무는 {tasks_done}개 입니다. 성과 결과:{status}\")"
   ]
  },
  {
   "cell_type": "code",
   "execution_count": 252,
   "metadata": {},
   "outputs": [
    {
     "name": "stdout",
     "output_type": "stream",
     "text": [
      "오늘 처리한 업무는 4개입니다. 성과결과 : 노력 필요 \n"
     ]
    }
   ],
   "source": [
    "def work_hours(tasks_done):\n",
    "    status = \"우수\" if tasks_done >=10 else ('보통' if tasks_done >=5 else \"노력필요\")\n",
    "    return tasks_done, status\n",
    "\n",
    "resuelt_tasks_done, result_status = work_report(4)\n",
    "print(f'오늘 처리한 업무는 {resuelt_tasks_done}개입니다. 성과결과 : {result_status} ')"
   ]
  },
  {
   "cell_type": "markdown",
   "metadata": {},
   "source": [
    "## **문제 7: 월급 계산 및 세금 공제**\n",
    "\n",
    "**\"다람쥐는 첫 월급을 계산하고 세금을 공제해야 한다.\"**\n",
    "\n",
    "1. `calculate_salary(base_salary, bonus)`라는 함수를 만들어 기본 월급과 보너스를 매개변수로 받으세요.\n",
    "2. 총 월급을 계산하고, 세금은 총 월급의 10%로 공제하세요.\n",
    "3. 함수는 다음 두 값을 반환합니다.\n",
    "    - `net_salary`: 실수령액 (총 월급 - 세금)\n",
    "    - `tax`: 세금 공제액\n",
    "4. 반환된 값을 사용해 다음 메시지를 출력하세요.\n",
    "    - **\"세전 월급: [총 월급]원, 세금: [세금]원, 실수령액: [실수령액]원\"**"
   ]
  },
  {
   "cell_type": "code",
   "execution_count": 259,
   "metadata": {},
   "outputs": [
    {
     "name": "stdout",
     "output_type": "stream",
     "text": [
      "세전월급:0원, 세금:0.0원, 실수령액:0.0원\n"
     ]
    }
   ],
   "source": [
    "def calculate_salary(base_salary, bonus):\n",
    "    total_salary2 = base_salary + bonus\n",
    "    tax = (base_salary + bonus) * 0.1\n",
    "    net_salary = base_salary + bonus - tax\n",
    "    return net_salary , tax \n",
    "\n",
    "\n",
    "\n"
   ]
  },
  {
   "cell_type": "code",
   "execution_count": 262,
   "metadata": {},
   "outputs": [
    {
     "data": {
      "text/plain": [
       "'세전 월급:3000000원, 세금:300000.0원, 실수령액:2700000.0원'"
      ]
     },
     "execution_count": 262,
     "metadata": {},
     "output_type": "execute_result"
    }
   ],
   "source": [
    "base_salary = 0\n",
    "bonus = 0\n",
    "tax = (base_salary + bonus) * 0.1\n",
    "net_salary = base_salary + bonus - tax\n",
    "\n",
    " \n",
    "\n",
    "def calculate_salary(base_salary, bonus):\n",
    "    tax = (base_salary + bonus) * 0.1\n",
    "    net_salary = base_salary + bonus - tax\n",
    "    return f\"세전 월급:{base_salary + bonus}원, 세금:{tax}원, 실수령액:{net_salary}원\"\n",
    "\n",
    "calculate_salary(3000000, 0)"
   ]
  },
  {
   "cell_type": "code",
   "execution_count": 263,
   "metadata": {},
   "outputs": [
    {
     "name": "stdout",
     "output_type": "stream",
     "text": [
      "세전월급 : 6000000000.0원, 세금:600000000.0원, 실수령액: 5400000000.0원\n"
     ]
    }
   ],
   "source": [
    "def calculate_salary(base_salary, bonus):\n",
    "    total_salary = base_salary + bonus\n",
    "    tax = total_salary * 0.1\n",
    "    net_salary = total_salary - tax \n",
    "\n",
    "    return net_salary, tax \n",
    "\n",
    "result_net_salary, result_tax = calculate_salary(5000000000, 1000000000)\n",
    "\n",
    "print(f\"세전월급 : {result_net_salary + result_tax}원, 세금:{result_tax}원, 실수령액: {result_net_salary}원\")"
   ]
  }
 ],
 "metadata": {
  "kernelspec": {
   "display_name": "pystudy_env",
   "language": "python",
   "name": "python3"
  },
  "language_info": {
   "codemirror_mode": {
    "name": "ipython",
    "version": 3
   },
   "file_extension": ".py",
   "mimetype": "text/x-python",
   "name": "python",
   "nbconvert_exporter": "python",
   "pygments_lexer": "ipython3",
   "version": "3.12.8"
  }
 },
 "nbformat": 4,
 "nbformat_minor": 2
}
