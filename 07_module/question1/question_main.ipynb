{
 "cells": [
  {
   "cell_type": "code",
   "execution_count": 2,
   "metadata": {},
   "outputs": [
    {
     "name": "stdout",
     "output_type": "stream",
     "text": [
      "안녕하세요, 주식회사 SQUIRREL입니다.\n",
      "저는 팀장입니다. 팀을 이끌고 있습니다.\n",
      "저는 개발자입니다. LLM서비스를 개발하고 있습니다.\n"
     ]
    }
   ],
   "source": [
    "# 1\n",
    "import team_module as tm\n",
    "\n",
    "print(f'안녕하세요, {tm.company}입니다.')\n",
    "print(tm.introduce())\n",
    "print(tm.introduce_developer())\n",
    "\n"
   ]
  },
  {
   "cell_type": "code",
   "execution_count": 3,
   "metadata": {},
   "outputs": [
    {
     "name": "stdout",
     "output_type": "stream",
     "text": [
      "다람쥐님이 9:00에 출근했습니다.\n",
      "다람쥐님이 18:00에 퇴근했습니다.\n"
     ]
    }
   ],
   "source": [
    "# 2\n",
    "from attendance_module import record_attendance, record_leave\n",
    "\n",
    "print(record_attendance('다람쥐','9:00'))\n",
    "print(record_leave('다람쥐', '18:00'))\n"
   ]
  },
  {
   "cell_type": "code",
   "execution_count": 6,
   "metadata": {},
   "outputs": [
    {
     "data": {
      "text/plain": [
       "\"작업'코드 리뷰'이(가) 완료되었씁니다.\""
      ]
     },
     "execution_count": 6,
     "metadata": {},
     "output_type": "execute_result"
    }
   ],
   "source": [
    "# 3\n",
    "\n",
    "import task_module \n",
    "\n",
    "task = \"'코드 리뷰'\"\n",
    "\n",
    "task_module.start_task(task)\n",
    "task_module.complete_task(task)\n"
   ]
  },
  {
   "cell_type": "code",
   "execution_count": 19,
   "metadata": {},
   "outputs": [
    {
     "name": "stdout",
     "output_type": "stream",
     "text": [
      "10.8\n",
      "11\n",
      "11\n",
      "평균 업무량보다 많이 처리한 날 : 2\n"
     ]
    }
   ],
   "source": [
    "import math\n",
    "\n",
    "# 1 매일 처리한 업무량을 기록한 배열이 [10, 12, 8, 15, 9] 라면 평균업무량을 구하세요.\n",
    "\n",
    "works = [10, 12, 8, 15, 9]\n",
    "work_avg = sum(works) / len(works)\n",
    "print(work_avg)\n",
    "\n",
    "# 2 평균 업무량보다 많이 처리한 날의 개수\n",
    "\n",
    "work_avg = math.ceil(work_avg)\n",
    "print(work_avg)\n",
    "\n",
    "work_avg = math.floor(work_avg)\n",
    "print(work_avg)\n",
    "# count = 0\n",
    "\n",
    "# for work_time in works:\n",
    "#     if work_time > work_avg:\n",
    "#         count += 1 \n",
    "\n",
    "count = sum(1 for work_time in works if work_time > work_avg)\n",
    "\n",
    "print(f'평균 업무량보다 많이 처리한 날 : {count}')\n",
    "\n"
   ]
  },
  {
   "cell_type": "code",
   "execution_count": 40,
   "metadata": {},
   "outputs": [
    {
     "name": "stdout",
     "output_type": "stream",
     "text": [
      "[2024-12-26 10:42:24] 다람쥐님이 작업'코드리뷰'을(를) 완료했습니다.\n"
     ]
    }
   ],
   "source": [
    "# 5\n",
    "import datetime\n",
    "name = \"다람쥐\"\n",
    "task1 = \"'코드리뷰'\"\n",
    "now = datetime.datetime.now()\n",
    "print(f'[{now.strftime('%Y-%m-%d %H:%M:%S')}] {name}님이 작업{task1}을(를) 완료했습니다.' )\n"
   ]
  },
  {
   "cell_type": "code",
   "execution_count": 39,
   "metadata": {},
   "outputs": [
    {
     "name": "stdout",
     "output_type": "stream",
     "text": [
      "[2024-12-26 10:41:37]\n"
     ]
    }
   ],
   "source": [
    "from datetime import datetime\n",
    "\n",
    "\n",
    "\n",
    "\n",
    "\n",
    "print(f'[{datetime.now().strftime('%Y-%m-%d %H:%M:%S')}]')"
   ]
  },
  {
   "cell_type": "code",
   "execution_count": 3,
   "metadata": {},
   "outputs": [
    {
     "name": "stdout",
     "output_type": "stream",
     "text": [
      "Requirement already satisfied: numpy in c:\\users\\woori\\anaconda3\\envs\\pystudy_env\\lib\\site-packages (2.2.1)\n",
      "Requirement already satisfied: pandas in c:\\users\\woori\\anaconda3\\envs\\pystudy_env\\lib\\site-packages (2.2.3)\n",
      "Requirement already satisfied: numpy>=1.26.0 in c:\\users\\woori\\anaconda3\\envs\\pystudy_env\\lib\\site-packages (from pandas) (2.2.1)\n",
      "Requirement already satisfied: python-dateutil>=2.8.2 in c:\\users\\woori\\anaconda3\\envs\\pystudy_env\\lib\\site-packages (from pandas) (2.9.0.post0)\n",
      "Requirement already satisfied: pytz>=2020.1 in c:\\users\\woori\\anaconda3\\envs\\pystudy_env\\lib\\site-packages (from pandas) (2024.2)\n",
      "Requirement already satisfied: tzdata>=2022.7 in c:\\users\\woori\\anaconda3\\envs\\pystudy_env\\lib\\site-packages (from pandas) (2024.2)\n",
      "Requirement already satisfied: six>=1.5 in c:\\users\\woori\\anaconda3\\envs\\pystudy_env\\lib\\site-packages (from python-dateutil>=2.8.2->pandas) (1.17.0)\n"
     ]
    }
   ],
   "source": [
    "!pip install numpy\n",
    "!pip install pandas\n",
    "\n"
   ]
  },
  {
   "cell_type": "code",
   "execution_count": 4,
   "metadata": {},
   "outputs": [],
   "source": [
    "import numpy \n",
    "import pandas"
   ]
  },
  {
   "cell_type": "code",
   "execution_count": 3,
   "metadata": {},
   "outputs": [],
   "source": [
    "!pip freeze > requirments.txt\n"
   ]
  },
  {
   "cell_type": "code",
   "execution_count": 1,
   "metadata": {},
   "outputs": [
    {
     "name": "stdout",
     "output_type": "stream",
     "text": [
      "Collecting anyio==4.7.0 (from -r requirments.txt (line 1))\n",
      "  Using cached anyio-4.7.0-py3-none-any.whl.metadata (4.7 kB)\n",
      "Collecting argon2-cffi==23.1.0 (from -r requirments.txt (line 2))\n",
      "  Using cached argon2_cffi-23.1.0-py3-none-any.whl.metadata (5.2 kB)\n",
      "Collecting argon2-cffi-bindings==21.2.0 (from -r requirments.txt (line 3))\n",
      "  Using cached argon2_cffi_bindings-21.2.0-cp36-abi3-win_amd64.whl.metadata (6.7 kB)\n",
      "Collecting arrow==1.3.0 (from -r requirments.txt (line 4))\n",
      "  Using cached arrow-1.3.0-py3-none-any.whl.metadata (7.5 kB)\n",
      "Requirement already satisfied: asttokens==3.0.0 in c:\\users\\woori\\anaconda3\\envs\\pystudy_test\\lib\\site-packages (from -r requirments.txt (line 5)) (3.0.0)\n",
      "Collecting async-lru==2.0.4 (from -r requirments.txt (line 6))\n",
      "  Using cached async_lru-2.0.4-py3-none-any.whl.metadata (4.5 kB)\n",
      "Collecting attrs==24.3.0 (from -r requirments.txt (line 7))\n",
      "  Using cached attrs-24.3.0-py3-none-any.whl.metadata (11 kB)\n",
      "Collecting babel==2.16.0 (from -r requirments.txt (line 8))\n",
      "  Using cached babel-2.16.0-py3-none-any.whl.metadata (1.5 kB)\n",
      "Collecting beautifulsoup4==4.12.3 (from -r requirments.txt (line 9))\n",
      "  Using cached beautifulsoup4-4.12.3-py3-none-any.whl.metadata (3.8 kB)\n",
      "Collecting bleach==6.2.0 (from -r requirments.txt (line 10))\n",
      "  Using cached bleach-6.2.0-py3-none-any.whl.metadata (30 kB)\n",
      "Collecting certifi==2024.12.14 (from -r requirments.txt (line 11))\n",
      "  Using cached certifi-2024.12.14-py3-none-any.whl.metadata (2.3 kB)\n",
      "Collecting cffi==1.17.1 (from -r requirments.txt (line 12))\n",
      "  Using cached cffi-1.17.1-cp312-cp312-win_amd64.whl.metadata (1.6 kB)\n",
      "Collecting charset-normalizer==3.4.0 (from -r requirments.txt (line 13))\n",
      "  Using cached charset_normalizer-3.4.0-cp312-cp312-win_amd64.whl.metadata (34 kB)\n",
      "Requirement already satisfied: colorama==0.4.6 in c:\\users\\woori\\anaconda3\\envs\\pystudy_test\\lib\\site-packages (from -r requirments.txt (line 14)) (0.4.6)\n",
      "Requirement already satisfied: comm==0.2.2 in c:\\users\\woori\\anaconda3\\envs\\pystudy_test\\lib\\site-packages (from -r requirments.txt (line 15)) (0.2.2)\n",
      "Collecting debugpy==1.8.11 (from -r requirments.txt (line 16))\n",
      "  Using cached debugpy-1.8.11-cp312-cp312-win_amd64.whl.metadata (1.1 kB)\n",
      "Requirement already satisfied: decorator==5.1.1 in c:\\users\\woori\\anaconda3\\envs\\pystudy_test\\lib\\site-packages (from -r requirments.txt (line 17)) (5.1.1)\n",
      "Collecting defusedxml==0.7.1 (from -r requirments.txt (line 18))\n",
      "  Using cached defusedxml-0.7.1-py2.py3-none-any.whl.metadata (32 kB)\n",
      "Requirement already satisfied: executing==2.1.0 in c:\\users\\woori\\anaconda3\\envs\\pystudy_test\\lib\\site-packages (from -r requirments.txt (line 19)) (2.1.0)\n",
      "Collecting fastjsonschema==2.21.1 (from -r requirments.txt (line 20))\n",
      "  Using cached fastjsonschema-2.21.1-py3-none-any.whl.metadata (2.2 kB)\n",
      "Collecting fqdn==1.5.1 (from -r requirments.txt (line 21))\n",
      "  Using cached fqdn-1.5.1-py3-none-any.whl.metadata (1.4 kB)\n",
      "Collecting h11==0.14.0 (from -r requirments.txt (line 22))\n",
      "  Using cached h11-0.14.0-py3-none-any.whl.metadata (8.2 kB)\n",
      "Collecting httpcore==1.0.7 (from -r requirments.txt (line 23))\n",
      "  Using cached httpcore-1.0.7-py3-none-any.whl.metadata (21 kB)\n",
      "Collecting httpx==0.28.1 (from -r requirments.txt (line 24))\n",
      "  Using cached httpx-0.28.1-py3-none-any.whl.metadata (7.1 kB)\n",
      "Collecting idna==3.10 (from -r requirments.txt (line 25))\n",
      "  Using cached idna-3.10-py3-none-any.whl.metadata (10 kB)\n",
      "Requirement already satisfied: ipykernel==6.29.5 in c:\\users\\woori\\anaconda3\\envs\\pystudy_test\\lib\\site-packages (from -r requirments.txt (line 26)) (6.29.5)\n",
      "Collecting ipython==8.30.0 (from -r requirments.txt (line 27))\n",
      "  Using cached ipython-8.30.0-py3-none-any.whl.metadata (4.9 kB)\n",
      "Collecting ipywidgets==8.1.5 (from -r requirments.txt (line 28))\n",
      "  Using cached ipywidgets-8.1.5-py3-none-any.whl.metadata (2.3 kB)\n",
      "Collecting isoduration==20.11.0 (from -r requirments.txt (line 29))\n",
      "  Using cached isoduration-20.11.0-py3-none-any.whl.metadata (5.7 kB)\n",
      "Requirement already satisfied: jedi==0.19.2 in c:\\users\\woori\\anaconda3\\envs\\pystudy_test\\lib\\site-packages (from -r requirments.txt (line 30)) (0.19.2)\n",
      "Collecting Jinja2==3.1.4 (from -r requirments.txt (line 31))\n",
      "  Using cached jinja2-3.1.4-py3-none-any.whl.metadata (2.6 kB)\n",
      "Collecting json5==0.10.0 (from -r requirments.txt (line 32))\n",
      "  Using cached json5-0.10.0-py3-none-any.whl.metadata (34 kB)\n",
      "Collecting jsonpointer==3.0.0 (from -r requirments.txt (line 33))\n",
      "  Using cached jsonpointer-3.0.0-py2.py3-none-any.whl.metadata (2.3 kB)\n",
      "Collecting jsonschema==4.23.0 (from -r requirments.txt (line 34))\n",
      "  Using cached jsonschema-4.23.0-py3-none-any.whl.metadata (7.9 kB)\n",
      "Collecting jsonschema-specifications==2024.10.1 (from -r requirments.txt (line 35))\n",
      "  Using cached jsonschema_specifications-2024.10.1-py3-none-any.whl.metadata (3.0 kB)\n",
      "Collecting jupyter==1.1.1 (from -r requirments.txt (line 36))\n",
      "  Using cached jupyter-1.1.1-py2.py3-none-any.whl.metadata (2.0 kB)\n",
      "Collecting jupyter-console==6.6.3 (from -r requirments.txt (line 37))\n",
      "  Using cached jupyter_console-6.6.3-py3-none-any.whl.metadata (5.8 kB)\n",
      "Collecting jupyter-events==0.11.0 (from -r requirments.txt (line 38))\n",
      "  Using cached jupyter_events-0.11.0-py3-none-any.whl.metadata (5.8 kB)\n",
      "Collecting jupyter-lsp==2.2.5 (from -r requirments.txt (line 39))\n",
      "  Using cached jupyter_lsp-2.2.5-py3-none-any.whl.metadata (1.8 kB)\n",
      "Requirement already satisfied: jupyter_client==8.6.3 in c:\\users\\woori\\anaconda3\\envs\\pystudy_test\\lib\\site-packages (from -r requirments.txt (line 40)) (8.6.3)\n",
      "Requirement already satisfied: jupyter_core==5.7.2 in c:\\users\\woori\\anaconda3\\envs\\pystudy_test\\lib\\site-packages (from -r requirments.txt (line 41)) (5.7.2)\n",
      "Collecting jupyter_server==2.14.2 (from -r requirments.txt (line 42))\n",
      "  Using cached jupyter_server-2.14.2-py3-none-any.whl.metadata (8.4 kB)\n",
      "Collecting jupyter_server_terminals==0.5.3 (from -r requirments.txt (line 43))\n",
      "  Using cached jupyter_server_terminals-0.5.3-py3-none-any.whl.metadata (5.6 kB)\n",
      "Collecting jupyterlab==4.3.4 (from -r requirments.txt (line 44))\n",
      "  Using cached jupyterlab-4.3.4-py3-none-any.whl.metadata (16 kB)\n",
      "Collecting jupyterlab_pygments==0.3.0 (from -r requirments.txt (line 45))\n",
      "  Using cached jupyterlab_pygments-0.3.0-py3-none-any.whl.metadata (4.4 kB)\n",
      "Collecting jupyterlab_server==2.27.3 (from -r requirments.txt (line 46))\n",
      "  Using cached jupyterlab_server-2.27.3-py3-none-any.whl.metadata (5.9 kB)\n",
      "Collecting jupyterlab_widgets==3.0.13 (from -r requirments.txt (line 47))\n",
      "  Using cached jupyterlab_widgets-3.0.13-py3-none-any.whl.metadata (4.1 kB)\n",
      "Collecting MarkupSafe==3.0.2 (from -r requirments.txt (line 48))\n",
      "  Using cached MarkupSafe-3.0.2-cp312-cp312-win_amd64.whl.metadata (4.1 kB)\n",
      "Requirement already satisfied: matplotlib-inline==0.1.7 in c:\\users\\woori\\anaconda3\\envs\\pystudy_test\\lib\\site-packages (from -r requirments.txt (line 49)) (0.1.7)\n",
      "Collecting mistune==3.0.2 (from -r requirments.txt (line 50))\n",
      "  Using cached mistune-3.0.2-py3-none-any.whl.metadata (1.7 kB)\n",
      "Collecting nbclient==0.10.1 (from -r requirments.txt (line 51))\n",
      "  Using cached nbclient-0.10.1-py3-none-any.whl.metadata (8.2 kB)\n",
      "Collecting nbconvert==7.16.4 (from -r requirments.txt (line 52))\n",
      "  Using cached nbconvert-7.16.4-py3-none-any.whl.metadata (8.5 kB)\n",
      "Collecting nbformat==5.10.4 (from -r requirments.txt (line 53))\n",
      "  Using cached nbformat-5.10.4-py3-none-any.whl.metadata (3.6 kB)\n",
      "Requirement already satisfied: nest-asyncio==1.6.0 in c:\\users\\woori\\anaconda3\\envs\\pystudy_test\\lib\\site-packages (from -r requirments.txt (line 54)) (1.6.0)\n",
      "Collecting notebook==7.3.1 (from -r requirments.txt (line 55))\n",
      "  Using cached notebook-7.3.1-py3-none-any.whl.metadata (10 kB)\n",
      "Collecting notebook_shim==0.2.4 (from -r requirments.txt (line 56))\n",
      "  Using cached notebook_shim-0.2.4-py3-none-any.whl.metadata (4.0 kB)\n",
      "Collecting numpy==2.2.1 (from -r requirments.txt (line 57))\n",
      "  Using cached numpy-2.2.1-cp312-cp312-win_amd64.whl.metadata (60 kB)\n",
      "Collecting overrides==7.7.0 (from -r requirments.txt (line 58))\n",
      "  Using cached overrides-7.7.0-py3-none-any.whl.metadata (5.8 kB)\n",
      "Requirement already satisfied: packaging==24.2 in c:\\users\\woori\\anaconda3\\envs\\pystudy_test\\lib\\site-packages (from -r requirments.txt (line 59)) (24.2)\n",
      "Collecting pandas==2.2.3 (from -r requirments.txt (line 60))\n",
      "  Using cached pandas-2.2.3-cp312-cp312-win_amd64.whl.metadata (19 kB)\n",
      "Collecting pandocfilters==1.5.1 (from -r requirments.txt (line 61))\n",
      "  Using cached pandocfilters-1.5.1-py2.py3-none-any.whl.metadata (9.0 kB)\n",
      "Requirement already satisfied: parso==0.8.4 in c:\\users\\woori\\anaconda3\\envs\\pystudy_test\\lib\\site-packages (from -r requirments.txt (line 62)) (0.8.4)\n",
      "Requirement already satisfied: platformdirs==4.3.6 in c:\\users\\woori\\anaconda3\\envs\\pystudy_test\\lib\\site-packages (from -r requirments.txt (line 63)) (4.3.6)\n",
      "Collecting prometheus_client==0.21.1 (from -r requirments.txt (line 64))\n",
      "  Using cached prometheus_client-0.21.1-py3-none-any.whl.metadata (1.8 kB)\n",
      "Requirement already satisfied: prompt_toolkit==3.0.48 in c:\\users\\woori\\anaconda3\\envs\\pystudy_test\\lib\\site-packages (from -r requirments.txt (line 65)) (3.0.48)\n",
      "Collecting psutil==6.1.0 (from -r requirments.txt (line 66))\n",
      "  Using cached psutil-6.1.0-cp37-abi3-win_amd64.whl.metadata (23 kB)\n",
      "Requirement already satisfied: pure_eval==0.2.3 in c:\\users\\woori\\anaconda3\\envs\\pystudy_test\\lib\\site-packages (from -r requirments.txt (line 67)) (0.2.3)\n",
      "Collecting pycparser==2.22 (from -r requirments.txt (line 68))\n",
      "  Using cached pycparser-2.22-py3-none-any.whl.metadata (943 bytes)\n",
      "Requirement already satisfied: Pygments==2.18.0 in c:\\users\\woori\\anaconda3\\envs\\pystudy_test\\lib\\site-packages (from -r requirments.txt (line 69)) (2.18.0)\n",
      "Requirement already satisfied: python-dateutil==2.9.0.post0 in c:\\users\\woori\\anaconda3\\envs\\pystudy_test\\lib\\site-packages (from -r requirments.txt (line 70)) (2.9.0.post0)\n",
      "Collecting python-json-logger==3.2.1 (from -r requirments.txt (line 71))\n",
      "  Using cached python_json_logger-3.2.1-py3-none-any.whl.metadata (4.1 kB)\n",
      "Collecting pytz==2024.2 (from -r requirments.txt (line 72))\n",
      "  Using cached pytz-2024.2-py2.py3-none-any.whl.metadata (22 kB)\n",
      "Collecting pywin32==308 (from -r requirments.txt (line 73))\n",
      "  Using cached pywin32-308-cp312-cp312-win_amd64.whl.metadata (8.3 kB)\n",
      "Collecting pywinpty==2.0.14 (from -r requirments.txt (line 74))\n",
      "  Using cached pywinpty-2.0.14-cp312-none-win_amd64.whl.metadata (5.2 kB)\n",
      "Collecting PyYAML==6.0.2 (from -r requirments.txt (line 75))\n",
      "  Using cached PyYAML-6.0.2-cp312-cp312-win_amd64.whl.metadata (2.1 kB)\n",
      "Requirement already satisfied: pyzmq==26.2.0 in c:\\users\\woori\\anaconda3\\envs\\pystudy_test\\lib\\site-packages (from -r requirments.txt (line 76)) (26.2.0)\n",
      "Collecting referencing==0.35.1 (from -r requirments.txt (line 77))\n",
      "  Using cached referencing-0.35.1-py3-none-any.whl.metadata (2.8 kB)\n",
      "Collecting requests==2.32.3 (from -r requirments.txt (line 78))\n",
      "  Using cached requests-2.32.3-py3-none-any.whl.metadata (4.6 kB)\n",
      "Collecting rfc3339-validator==0.1.4 (from -r requirments.txt (line 79))\n",
      "  Using cached rfc3339_validator-0.1.4-py2.py3-none-any.whl.metadata (1.5 kB)\n",
      "Collecting rfc3986-validator==0.1.1 (from -r requirments.txt (line 80))\n",
      "  Using cached rfc3986_validator-0.1.1-py2.py3-none-any.whl.metadata (1.7 kB)\n",
      "Collecting rpds-py==0.22.3 (from -r requirments.txt (line 81))\n",
      "  Using cached rpds_py-0.22.3-cp312-cp312-win_amd64.whl.metadata (4.2 kB)\n",
      "Collecting Send2Trash==1.8.3 (from -r requirments.txt (line 82))\n",
      "  Using cached Send2Trash-1.8.3-py3-none-any.whl.metadata (4.0 kB)\n",
      "Requirement already satisfied: setuptools==75.1.0 in c:\\users\\woori\\anaconda3\\envs\\pystudy_test\\lib\\site-packages (from -r requirments.txt (line 83)) (75.1.0)\n",
      "Requirement already satisfied: six==1.17.0 in c:\\users\\woori\\anaconda3\\envs\\pystudy_test\\lib\\site-packages (from -r requirments.txt (line 84)) (1.17.0)\n",
      "Collecting sniffio==1.3.1 (from -r requirments.txt (line 85))\n",
      "  Using cached sniffio-1.3.1-py3-none-any.whl.metadata (3.9 kB)\n",
      "Collecting soupsieve==2.6 (from -r requirments.txt (line 86))\n",
      "  Using cached soupsieve-2.6-py3-none-any.whl.metadata (4.6 kB)\n",
      "Requirement already satisfied: stack-data==0.6.3 in c:\\users\\woori\\anaconda3\\envs\\pystudy_test\\lib\\site-packages (from -r requirments.txt (line 87)) (0.6.3)\n",
      "Collecting terminado==0.18.1 (from -r requirments.txt (line 88))\n",
      "  Using cached terminado-0.18.1-py3-none-any.whl.metadata (5.8 kB)\n",
      "Collecting tinycss2==1.4.0 (from -r requirments.txt (line 89))\n",
      "  Using cached tinycss2-1.4.0-py3-none-any.whl.metadata (3.0 kB)\n",
      "Requirement already satisfied: tornado==6.4.2 in c:\\users\\woori\\anaconda3\\envs\\pystudy_test\\lib\\site-packages (from -r requirments.txt (line 90)) (6.4.2)\n",
      "Requirement already satisfied: traitlets==5.14.3 in c:\\users\\woori\\anaconda3\\envs\\pystudy_test\\lib\\site-packages (from -r requirments.txt (line 91)) (5.14.3)\n",
      "Collecting types-python-dateutil==2.9.0.20241206 (from -r requirments.txt (line 92))\n",
      "  Using cached types_python_dateutil-2.9.0.20241206-py3-none-any.whl.metadata (2.1 kB)\n",
      "Requirement already satisfied: typing_extensions==4.12.2 in c:\\users\\woori\\anaconda3\\envs\\pystudy_test\\lib\\site-packages (from -r requirments.txt (line 93)) (4.12.2)\n",
      "Collecting tzdata==2024.2 (from -r requirments.txt (line 94))\n",
      "  Using cached tzdata-2024.2-py2.py3-none-any.whl.metadata (1.4 kB)\n",
      "Collecting uri-template==1.3.0 (from -r requirments.txt (line 95))\n",
      "  Using cached uri_template-1.3.0-py3-none-any.whl.metadata (8.8 kB)\n",
      "Collecting urllib3==2.2.3 (from -r requirments.txt (line 96))\n",
      "  Using cached urllib3-2.2.3-py3-none-any.whl.metadata (6.5 kB)\n",
      "Requirement already satisfied: wcwidth==0.2.13 in c:\\users\\woori\\anaconda3\\envs\\pystudy_test\\lib\\site-packages (from -r requirments.txt (line 97)) (0.2.13)\n",
      "Collecting webcolors==24.11.1 (from -r requirments.txt (line 98))\n",
      "  Using cached webcolors-24.11.1-py3-none-any.whl.metadata (2.2 kB)\n",
      "Collecting webencodings==0.5.1 (from -r requirments.txt (line 99))\n",
      "  Using cached webencodings-0.5.1-py2.py3-none-any.whl.metadata (2.1 kB)\n",
      "Collecting websocket-client==1.8.0 (from -r requirments.txt (line 100))\n",
      "  Using cached websocket_client-1.8.0-py3-none-any.whl.metadata (8.0 kB)\n",
      "Requirement already satisfied: wheel==0.44.0 in c:\\users\\woori\\anaconda3\\envs\\pystudy_test\\lib\\site-packages (from -r requirments.txt (line 101)) (0.44.0)\n",
      "Collecting widgetsnbextension==4.0.13 (from -r requirments.txt (line 102))\n",
      "  Using cached widgetsnbextension-4.0.13-py3-none-any.whl.metadata (1.6 kB)\n",
      "Using cached anyio-4.7.0-py3-none-any.whl (93 kB)\n",
      "Using cached argon2_cffi-23.1.0-py3-none-any.whl (15 kB)\n",
      "Using cached argon2_cffi_bindings-21.2.0-cp36-abi3-win_amd64.whl (30 kB)\n",
      "Using cached arrow-1.3.0-py3-none-any.whl (66 kB)\n",
      "Using cached async_lru-2.0.4-py3-none-any.whl (6.1 kB)\n",
      "Using cached attrs-24.3.0-py3-none-any.whl (63 kB)\n",
      "Using cached babel-2.16.0-py3-none-any.whl (9.6 MB)\n",
      "Using cached beautifulsoup4-4.12.3-py3-none-any.whl (147 kB)\n",
      "Using cached bleach-6.2.0-py3-none-any.whl (163 kB)\n",
      "Using cached certifi-2024.12.14-py3-none-any.whl (164 kB)\n",
      "Using cached cffi-1.17.1-cp312-cp312-win_amd64.whl (181 kB)\n",
      "Using cached charset_normalizer-3.4.0-cp312-cp312-win_amd64.whl (102 kB)\n",
      "Using cached debugpy-1.8.11-cp312-cp312-win_amd64.whl (5.3 MB)\n",
      "Using cached defusedxml-0.7.1-py2.py3-none-any.whl (25 kB)\n",
      "Using cached fastjsonschema-2.21.1-py3-none-any.whl (23 kB)\n",
      "Using cached fqdn-1.5.1-py3-none-any.whl (9.1 kB)\n",
      "Using cached h11-0.14.0-py3-none-any.whl (58 kB)\n",
      "Using cached httpcore-1.0.7-py3-none-any.whl (78 kB)\n",
      "Using cached httpx-0.28.1-py3-none-any.whl (73 kB)\n",
      "Using cached idna-3.10-py3-none-any.whl (70 kB)\n",
      "Using cached ipython-8.30.0-py3-none-any.whl (820 kB)\n",
      "Using cached ipywidgets-8.1.5-py3-none-any.whl (139 kB)\n",
      "Using cached isoduration-20.11.0-py3-none-any.whl (11 kB)\n",
      "Using cached jinja2-3.1.4-py3-none-any.whl (133 kB)\n",
      "Using cached json5-0.10.0-py3-none-any.whl (34 kB)\n",
      "Using cached jsonpointer-3.0.0-py2.py3-none-any.whl (7.6 kB)\n",
      "Using cached jsonschema-4.23.0-py3-none-any.whl (88 kB)\n",
      "Using cached jsonschema_specifications-2024.10.1-py3-none-any.whl (18 kB)\n",
      "Using cached jupyter-1.1.1-py2.py3-none-any.whl (2.7 kB)\n",
      "Using cached jupyter_console-6.6.3-py3-none-any.whl (24 kB)\n",
      "Using cached jupyter_events-0.11.0-py3-none-any.whl (19 kB)\n",
      "Using cached jupyter_lsp-2.2.5-py3-none-any.whl (69 kB)\n",
      "Using cached jupyter_server-2.14.2-py3-none-any.whl (383 kB)\n",
      "Using cached jupyter_server_terminals-0.5.3-py3-none-any.whl (13 kB)\n",
      "Using cached jupyterlab-4.3.4-py3-none-any.whl (11.7 MB)\n",
      "Using cached jupyterlab_pygments-0.3.0-py3-none-any.whl (15 kB)\n",
      "Using cached jupyterlab_server-2.27.3-py3-none-any.whl (59 kB)\n",
      "Using cached jupyterlab_widgets-3.0.13-py3-none-any.whl (214 kB)\n",
      "Using cached MarkupSafe-3.0.2-cp312-cp312-win_amd64.whl (15 kB)\n",
      "Using cached mistune-3.0.2-py3-none-any.whl (47 kB)\n",
      "Using cached nbclient-0.10.1-py3-none-any.whl (25 kB)\n",
      "Using cached nbconvert-7.16.4-py3-none-any.whl (257 kB)\n",
      "Using cached nbformat-5.10.4-py3-none-any.whl (78 kB)\n",
      "Using cached notebook-7.3.1-py3-none-any.whl (13.2 MB)\n",
      "Using cached notebook_shim-0.2.4-py3-none-any.whl (13 kB)\n",
      "Using cached numpy-2.2.1-cp312-cp312-win_amd64.whl (12.6 MB)\n",
      "Using cached overrides-7.7.0-py3-none-any.whl (17 kB)\n",
      "Using cached pandas-2.2.3-cp312-cp312-win_amd64.whl (11.5 MB)\n",
      "Using cached pandocfilters-1.5.1-py2.py3-none-any.whl (8.7 kB)\n",
      "Using cached prometheus_client-0.21.1-py3-none-any.whl (54 kB)\n",
      "Using cached psutil-6.1.0-cp37-abi3-win_amd64.whl (254 kB)\n",
      "Using cached pycparser-2.22-py3-none-any.whl (117 kB)\n",
      "Using cached python_json_logger-3.2.1-py3-none-any.whl (14 kB)\n",
      "Using cached pytz-2024.2-py2.py3-none-any.whl (508 kB)\n",
      "Using cached pywin32-308-cp312-cp312-win_amd64.whl (6.5 MB)\n",
      "Using cached pywinpty-2.0.14-cp312-none-win_amd64.whl (1.4 MB)\n",
      "Using cached PyYAML-6.0.2-cp312-cp312-win_amd64.whl (156 kB)\n",
      "Using cached referencing-0.35.1-py3-none-any.whl (26 kB)\n",
      "Using cached requests-2.32.3-py3-none-any.whl (64 kB)\n",
      "Using cached rfc3339_validator-0.1.4-py2.py3-none-any.whl (3.5 kB)\n",
      "Using cached rfc3986_validator-0.1.1-py2.py3-none-any.whl (4.2 kB)\n",
      "Using cached rpds_py-0.22.3-cp312-cp312-win_amd64.whl (235 kB)\n",
      "Using cached Send2Trash-1.8.3-py3-none-any.whl (18 kB)\n",
      "Using cached sniffio-1.3.1-py3-none-any.whl (10 kB)\n",
      "Using cached soupsieve-2.6-py3-none-any.whl (36 kB)\n",
      "Using cached terminado-0.18.1-py3-none-any.whl (14 kB)\n",
      "Using cached tinycss2-1.4.0-py3-none-any.whl (26 kB)\n",
      "Using cached types_python_dateutil-2.9.0.20241206-py3-none-any.whl (14 kB)\n",
      "Using cached tzdata-2024.2-py2.py3-none-any.whl (346 kB)\n",
      "Using cached uri_template-1.3.0-py3-none-any.whl (11 kB)\n",
      "Using cached urllib3-2.2.3-py3-none-any.whl (126 kB)\n",
      "Using cached webcolors-24.11.1-py3-none-any.whl (14 kB)\n",
      "Using cached webencodings-0.5.1-py2.py3-none-any.whl (11 kB)\n",
      "Using cached websocket_client-1.8.0-py3-none-any.whl (58 kB)\n",
      "Using cached widgetsnbextension-4.0.13-py3-none-any.whl (2.3 MB)\n",
      "Installing collected packages: webencodings, pywin32, pytz, fastjsonschema, widgetsnbextension, websocket-client, webcolors, urllib3, uri-template, tzdata, types-python-dateutil, tinycss2, soupsieve, sniffio, Send2Trash, rpds-py, rfc3986-validator, rfc3339-validator, PyYAML, pywinpty, python-json-logger, pycparser, psutil, prometheus_client, pandocfilters, overrides, numpy, mistune, MarkupSafe, jupyterlab_widgets, jupyterlab_pygments, jsonpointer, json5, idna, h11, fqdn, defusedxml, debugpy, charset-normalizer, certifi, bleach, babel, attrs, async-lru, terminado, requests, referencing, pandas, Jinja2, ipython, httpcore, cffi, beautifulsoup4, arrow, anyio, jupyter_server_terminals, jsonschema-specifications, isoduration, ipywidgets, httpx, argon2-cffi-bindings, jupyter-console, jsonschema, argon2-cffi, nbformat, nbclient, jupyter-events, nbconvert, jupyter_server, notebook_shim, jupyterlab_server, jupyter-lsp, jupyterlab, notebook, jupyter\n",
      "  Attempting uninstall: pywin32\n",
      "    Found existing installation: pywin32 305.1\n",
      "    Uninstalling pywin32-305.1:\n",
      "      Successfully uninstalled pywin32-305.1\n",
      "  Attempting uninstall: psutil\n",
      "    Found existing installation: psutil 5.9.0\n",
      "    Uninstalling psutil-5.9.0:\n",
      "      Successfully uninstalled psutil-5.9.0\n",
      "  Attempting uninstall: debugpy\n",
      "    Found existing installation: debugpy 1.6.7\n",
      "    Uninstalling debugpy-1.6.7:\n",
      "      Successfully uninstalled debugpy-1.6.7\n",
      "  Attempting uninstall: ipython\n",
      "    Found existing installation: ipython 8.31.0\n",
      "    Uninstalling ipython-8.31.0:\n",
      "      Successfully uninstalled ipython-8.31.0\n",
      "Successfully installed Jinja2-3.1.4 MarkupSafe-3.0.2 PyYAML-6.0.2 Send2Trash-1.8.3 anyio-4.7.0 argon2-cffi-23.1.0 argon2-cffi-bindings-21.2.0 arrow-1.3.0 async-lru-2.0.4 attrs-24.3.0 babel-2.16.0 beautifulsoup4-4.12.3 bleach-6.2.0 certifi-2024.12.14 cffi-1.17.1 charset-normalizer-3.4.0 debugpy-1.8.11 defusedxml-0.7.1 fastjsonschema-2.21.1 fqdn-1.5.1 h11-0.14.0 httpcore-1.0.7 httpx-0.28.1 idna-3.10 ipython-8.30.0 ipywidgets-8.1.5 isoduration-20.11.0 json5-0.10.0 jsonpointer-3.0.0 jsonschema-4.23.0 jsonschema-specifications-2024.10.1 jupyter-1.1.1 jupyter-console-6.6.3 jupyter-events-0.11.0 jupyter-lsp-2.2.5 jupyter_server-2.14.2 jupyter_server_terminals-0.5.3 jupyterlab-4.3.4 jupyterlab_pygments-0.3.0 jupyterlab_server-2.27.3 jupyterlab_widgets-3.0.13 mistune-3.0.2 nbclient-0.10.1 nbconvert-7.16.4 nbformat-5.10.4 notebook-7.3.1 notebook_shim-0.2.4 numpy-2.2.1 overrides-7.7.0 pandas-2.2.3 pandocfilters-1.5.1 prometheus_client-0.21.1 psutil-6.1.0 pycparser-2.22 python-json-logger-3.2.1 pytz-2024.2 pywin32-308 pywinpty-2.0.14 referencing-0.35.1 requests-2.32.3 rfc3339-validator-0.1.4 rfc3986-validator-0.1.1 rpds-py-0.22.3 sniffio-1.3.1 soupsieve-2.6 terminado-0.18.1 tinycss2-1.4.0 types-python-dateutil-2.9.0.20241206 tzdata-2024.2 uri-template-1.3.0 urllib3-2.2.3 webcolors-24.11.1 webencodings-0.5.1 websocket-client-1.8.0 widgetsnbextension-4.0.13\n"
     ]
    }
   ],
   "source": [
    "!pip install -r requirments.txt"
   ]
  },
  {
   "cell_type": "code",
   "execution_count": 7,
   "metadata": {},
   "outputs": [],
   "source": [
    "import numpy\n",
    "import pandas\n",
    "\n"
   ]
  },
  {
   "cell_type": "code",
   "execution_count": 1,
   "metadata": {},
   "outputs": [
    {
     "name": "stdout",
     "output_type": "stream",
     "text": [
      "Requirement already satisfied: numpy in c:\\users\\woori\\anaconda3\\envs\\pystudy_env\\lib\\site-packages (2.2.1)\n"
     ]
    }
   ],
   "source": [
    "!pip install numpy"
   ]
  },
  {
   "cell_type": "code",
   "execution_count": 2,
   "metadata": {},
   "outputs": [],
   "source": [
    "import numpy"
   ]
  },
  {
   "cell_type": "code",
   "execution_count": 13,
   "metadata": {},
   "outputs": [
    {
     "name": "stdout",
     "output_type": "stream",
     "text": [
      "Processing c:\\home\\conda\\feedstock_root\\build_artifacts\\asttokens_1733250440834\\work (from -r requirments.txt (line 5))\n"
     ]
    },
    {
     "name": "stderr",
     "output_type": "stream",
     "text": [
      "ERROR: Could not install packages due to an OSError: [Errno 2] No such file or directory: 'C:\\\\home\\\\conda\\\\feedstock_root\\\\build_artifacts\\\\asttokens_1733250440834\\\\work'\n",
      "\n"
     ]
    }
   ],
   "source": [
    "!pip install -r requirments.txt\n"
   ]
  }
 ],
 "metadata": {
  "kernelspec": {
   "display_name": "pystudy_env",
   "language": "python",
   "name": "python3"
  },
  "language_info": {
   "codemirror_mode": {
    "name": "ipython",
    "version": 3
   },
   "file_extension": ".py",
   "mimetype": "text/x-python",
   "name": "python",
   "nbconvert_exporter": "python",
   "pygments_lexer": "ipython3",
   "version": "3.12.8"
  }
 },
 "nbformat": 4,
 "nbformat_minor": 2
}
