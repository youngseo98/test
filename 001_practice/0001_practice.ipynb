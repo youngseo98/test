{
 "cells": [
  {
   "cell_type": "markdown",
   "metadata": {},
   "source": [
    "---\n",
    "### 연습\n"
   ]
  },
  {
   "cell_type": "code",
   "execution_count": 2,
   "metadata": {},
   "outputs": [
    {
     "name": "stdout",
     "output_type": "stream",
     "text": [
      "안녕하세요, 토끼님! 무엇을 도와드릴까요?\n",
      "안녕하세요, 곰님! 무엇을 도와드릴까요?\n",
      "안녕하세요, 여우님! 무엇을 도와드릴까요?\n",
      "안녕하세요, 호랑이님! 무엇을 도와드릴까요?\n"
     ]
    }
   ],
   "source": [
    "customers = ['토끼', '곰', '여우', '호랑이']\n",
    "name = customers\n",
    "('안녕하세요', name, '님! 무엇을 도와드릴까요?')\n",
    "\n",
    "\n",
    "\n",
    "for name in customers:\n",
    "    print(f\"안녕하세요, {name}님! 무엇을 도와드릴까요?\")\n"
   ]
  },
  {
   "cell_type": "code",
   "execution_count": 6,
   "metadata": {},
   "outputs": [
    {
     "name": "stdout",
     "output_type": "stream",
     "text": [
      "1번 테이블 청소 완료!\n",
      "2번 테이블 청소 완료!\n",
      "3번 테이블 청소 완료!\n",
      "4번 테이블 청소 완료!\n",
      "5번 테이블 청소 완료!\n"
     ]
    }
   ],
   "source": [
    "tables = [1, 2, 3, 4, 5]\n",
    "tables_num = tables\n",
    "\n",
    "for tables_num in tables:\n",
    "    print(f'{tables_num}번 테이블 청소 완료!')"
   ]
  },
  {
   "cell_type": "code",
   "execution_count": 7,
   "metadata": {},
   "outputs": [
    {
     "name": "stdout",
     "output_type": "stream",
     "text": [
      "아메리카노를 준비중입니다...\n",
      "카페라떼를 준비중입니다...\n",
      "핫초코를 준비중입니다...\n"
     ]
    }
   ],
   "source": [
    "orders = ['아메리카노', '카페라떼', '핫초코']\n",
    "\n",
    "for orders in orders:\n",
    "    print(f\"{orders}를 준비중입니다...\")"
   ]
  },
  {
   "cell_type": "code",
   "execution_count": 9,
   "metadata": {},
   "outputs": [
    {
     "name": "stdout",
     "output_type": "stream",
     "text": [
      "1\n",
      "2\n",
      "3\n",
      "4\n",
      "5\n",
      "6\n",
      "7\n",
      "8\n",
      "9\n",
      "10\n"
     ]
    }
   ],
   "source": [
    "for time in range(1,11):\n",
    "    print(time) "
   ]
  },
  {
   "cell_type": "code",
   "execution_count": 10,
   "metadata": {},
   "outputs": [
    {
     "name": "stdout",
     "output_type": "stream",
     "text": [
      "현재시간:1시, 근무 기록합니다.\n",
      "현재시간:2시, 근무 기록합니다.\n",
      "현재시간:3시, 근무 기록합니다.\n",
      "현재시간:4시, 근무 기록합니다.\n",
      "현재시간:5시, 근무 기록합니다.\n",
      "현재시간:6시, 근무 기록합니다.\n",
      "현재시간:7시, 근무 기록합니다.\n",
      "현재시간:8시, 근무 기록합니다.\n",
      "현재시간:9시, 근무 기록합니다.\n",
      "현재시간:10시, 근무 기록합니다.\n"
     ]
    }
   ],
   "source": [
    "for time in range(1,11):\n",
    "    print(f\"현재시간:{time}시, 근무 기록합니다.\")"
   ]
  },
  {
   "cell_type": "code",
   "execution_count": 12,
   "metadata": {},
   "outputs": [
    {
     "name": "stdout",
     "output_type": "stream",
     "text": [
      "손님 1번째 입장!\n",
      "손님 2번째 입장!\n",
      "손님 3번째 입장!\n",
      "손님 4번째 입장!\n",
      "손님 5번째 입장!\n",
      "손님 6번째 입장!\n",
      "손님 7번째 입장!\n",
      "손님 8번째 입장!\n",
      "손님 9번째 입장!\n"
     ]
    }
   ],
   "source": [
    "for guest in range(1,10):\n",
    "    print(f\"손님 {guest}번째 입장!\")"
   ]
  },
  {
   "cell_type": "code",
   "execution_count": 13,
   "metadata": {},
   "outputs": [
    {
     "name": "stdout",
     "output_type": "stream",
     "text": [
      "1번째 커피를 만들고 있습니다.\n",
      "2번째 커피를 만들고 있습니다.\n",
      "3번째 커피를 만들고 있습니다.\n",
      "4번째 커피를 만들고 있습니다.\n",
      "5번째 커피를 만들고 있습니다.\n"
     ]
    }
   ],
   "source": [
    "for coffee_num in range(1,6):\n",
    "    print(f\"{coffee_num}번째 커피를 만들고 있습니다.\")"
   ]
  },
  {
   "cell_type": "code",
   "execution_count": 18,
   "metadata": {},
   "outputs": [
    {
     "name": "stdout",
     "output_type": "stream",
     "text": [
      "1번 테이블 청소 완료!\n",
      "2번 테이블 청소 완료!\n",
      "3번 테이블 청소 완료!\n",
      "4번 테이블 청소 완료!\n",
      "5번 테이블 청소 완료!\n"
     ]
    }
   ],
   "source": [
    "tables = 1\n",
    "\n",
    "while tables < 6:\n",
    "    print(f\"{tables}번 테이블 청소 완료!\")\n",
    "    tables += 1"
   ]
  },
  {
   "cell_type": "code",
   "execution_count": 19,
   "metadata": {},
   "outputs": [
    {
     "name": "stdout",
     "output_type": "stream",
     "text": [
      "남은 손님 수: 5명\n",
      "남은 손님 수: 4명\n",
      "남은 손님 수: 3명\n",
      "남은 손님 수: 2명\n",
      "남은 손님 수: 1명\n",
      "오늘의 영업이 끝났습니다!\n"
     ]
    }
   ],
   "source": [
    "customers = 5\n",
    "\n",
    "while customers > 0:\n",
    "    print(f\"남은 손님 수: {customers}명\")\n",
    "    customers -= 1\n",
    "print(\"오늘의 영업이 끝났습니다!\")"
   ]
  },
  {
   "cell_type": "code",
   "execution_count": 20,
   "metadata": {},
   "outputs": [
    {
     "name": "stdout",
     "output_type": "stream",
     "text": [
      "오늘의 알바비는 1000원 입니다.\n",
      "오늘의 알바비는 2000원 입니다.\n",
      "오늘의 알바비는 3000원 입니다.\n",
      "오늘의 알바비는 4000원 입니다.\n",
      "오늘의 알바비는 5000원 입니다.\n",
      "오늘의 알바비는 6000원 입니다.\n"
     ]
    }
   ],
   "source": [
    "work_hours = int(input(\"일한 시간을 입력하세요: \"))\n",
    "pay = 0\n",
    "\n",
    "while work_hours > 0:\n",
    "    pay += 1000\n",
    "    print(f\"오늘의 알바비는 {pay}원 입니다.\")\n",
    "    work_hours "
   ]
  },
  {
   "cell_type": "code",
   "execution_count": 1,
   "metadata": {},
   "outputs": [],
   "source": [
    "def introduce():\n",
    "    print(\"안녕하세요, 저는 다람쥐 신입사원입니다.\")"
   ]
  },
  {
   "cell_type": "code",
   "execution_count": 2,
   "metadata": {},
   "outputs": [
    {
     "name": "stdout",
     "output_type": "stream",
     "text": [
      "안녕하세요, 저는 다람쥐 신입사원입니다.\n"
     ]
    }
   ],
   "source": [
    "introduce()"
   ]
  },
  {
   "cell_type": "code",
   "execution_count": 8,
   "metadata": {},
   "outputs": [
    {
     "data": {
      "text/plain": [
       "'다람쥐님, 출근 체크 완료'"
      ]
     },
     "execution_count": 8,
     "metadata": {},
     "output_type": "execute_result"
    }
   ],
   "source": [
    "\n",
    "def check_in(name):\n",
    "    return f\"{name}님, 출근 체크 완료\"\n",
    "\n",
    "check_in('다람쥐')"
   ]
  },
  {
   "cell_type": "code",
   "execution_count": 9,
   "metadata": {},
   "outputs": [
    {
     "name": "stdout",
     "output_type": "stream",
     "text": [
      "오늘 근무한 시간은 9시간 입니다\n"
     ]
    }
   ],
   "source": [
    "def work_hours(start, end):\n",
    "    근무시간 = end - start\n",
    "    return 근무시간 \n",
    "\n",
    "근무시간 = work_hours(9, 18)\n",
    "print(f'오늘 근무한 시간은 {근무시간}시간 입니다')"
   ]
  },
  {
   "cell_type": "code",
   "execution_count": 18,
   "metadata": {},
   "outputs": [
    {
     "name": "stdout",
     "output_type": "stream",
     "text": [
      "오늘의 점심 메뉴는 죽입니다!\n"
     ]
    }
   ],
   "source": [
    "import random\n",
    "menu = ('돈까스', '김치찌개', '제육볶음', '죽')\n",
    "\n",
    "def recommend_menu(*menu):\n",
    "    menu = ('돈까스', '김치찌개', '제육볶음', '죽')\n",
    "    return random.choice(menu) \n",
    "\n",
    "result_menu = random.choice(menu)\n",
    "\n",
    "print(f\"오늘의 점심 메뉴는 {result_menu}입니다!\")"
   ]
  },
  {
   "cell_type": "code",
   "execution_count": 19,
   "metadata": {},
   "outputs": [
    {
     "data": {
      "text/plain": [
       "'오후 3시 입니다. 커피 한잔 하세요!'"
      ]
     },
     "execution_count": 19,
     "metadata": {},
     "output_type": "execute_result"
    }
   ],
   "source": [
    "def coffee_time():\n",
    "    return \"오후 3시 입니다. 커피 한잔 하세요!\"\n",
    "\n",
    "coffee_time()"
   ]
  },
  {
   "cell_type": "code",
   "execution_count": 22,
   "metadata": {},
   "outputs": [
    {
     "name": "stdout",
     "output_type": "stream",
     "text": [
      "오늘 처리한 업무는 7개 입니다. 성과 평가: 보통\n"
     ]
    }
   ],
   "source": [
    "tasks_done = 0 \n",
    "\n",
    "\n",
    "def work_report(tasks_done):\n",
    "    if tasks_done >=10:\n",
    "        status = \"우수\"\n",
    "    elif tasks_done >=5:\n",
    "        status = \"보통\"\n",
    "    else:\n",
    "        status = \"노력필요\"\n",
    "    return tasks_done, status\n",
    "\n",
    "result_tasks_done, result_status = work_report(7)\n",
    "\n",
    "print(f\"오늘 처리한 업무는 {result_tasks_done}개 입니다. 성과 평가: {result_status}\")\n",
    "    "
   ]
  },
  {
   "cell_type": "code",
   "execution_count": 24,
   "metadata": {},
   "outputs": [
    {
     "name": "stdout",
     "output_type": "stream",
     "text": [
      "세전 월급:501000000원, 세금: 50100000.0원, 실수령액: 450900000.0원\n"
     ]
    }
   ],
   "source": [
    "def calculate_salary(base_salary, bonus):\n",
    "    total_salary = base_salary + bonus\n",
    "    tax = total_salary * 0.1 \n",
    "    net_salary = total_salary - tax\n",
    "    return total_salary, net_salary, tax \n",
    "\n",
    "r_total_salary, r_net_salary, r_tax = calculate_salary(500_000_000,1000_000)\n",
    "\n",
    "print(f\"세전 월급:{r_total_salary}원, 세금: {r_tax}원, 실수령액: {r_net_salary}원\")"
   ]
  },
  {
   "cell_type": "code",
   "execution_count": 29,
   "metadata": {},
   "outputs": [
    {
     "data": {
      "text/plain": [
       "'세전월급:3000000원, 세금:300000.0원, 실수령액:2700000.0원'"
      ]
     },
     "execution_count": 29,
     "metadata": {},
     "output_type": "execute_result"
    }
   ],
   "source": [
    "base_salary1 = int(input(\"기본월급은 얼마입니까?: \"))\n",
    "bonus1 = int(input(\"보너스는 얼마입니까?: \"))\n",
    "\n",
    "def calculate_salary1(base_salary1, bonus1):\n",
    "    total_salary1 = base_salary1 + bonus1\n",
    "    tax1 = total_salary1 * 0.1\n",
    "    net_salary1 = total_salary1 - tax1 \n",
    "    return f\"세전월급:{total_salary1}원, 세금:{tax1}원, 실수령액:{net_salary1}원\"\n",
    "\n",
    "calculate_salary1(base_salary1, bonus1)"
   ]
  },
  {
   "cell_type": "code",
   "execution_count": 12,
   "metadata": {},
   "outputs": [
    {
     "name": "stdout",
     "output_type": "stream",
     "text": [
      "김영서이고, 직업은 학생입니다.\n",
      "다람쥐\n"
     ]
    }
   ],
   "source": [
    "class Squirrel:\n",
    "    species = '다람쥐'\n",
    "    def __init__(self, name, current_job):\n",
    "        self.name = name\n",
    "        self.current_job = current_job\n",
    "\n",
    "    def introduce(self):\n",
    "        return f\"{self.name}이고, 직업은 {self.current_job}입니다.\"\n",
    "    \n",
    "sq = Squirrel('김영서', '학생')\n",
    "\n",
    "print(sq.introduce())\n",
    "print(sq.species)\n",
    "\n"
   ]
  },
  {
   "cell_type": "code",
   "execution_count": 5,
   "metadata": {},
   "outputs": [],
   "source": [
    "class Character:\n",
    "    skills = []\n",
    "    def __init__(self):\n",
    "        self.skills = []\n",
    "    def add_skill(self, skills):\n",
    "        self.skills.append(skills)\n",
    "\n",
    "        \n",
    "\n"
   ]
  },
  {
   "cell_type": "code",
   "execution_count": 9,
   "metadata": {},
   "outputs": [
    {
     "name": "stdout",
     "output_type": "stream",
     "text": [
      "['발목 후리기']\n",
      "[]\n"
     ]
    }
   ],
   "source": [
    "character = Character()\n",
    "\n",
    "character.add_skill(\"발목 후리기\")\n",
    "\n",
    "print(character.skills)\n",
    "\n",
    "print(Character.skills)\n"
   ]
  },
  {
   "cell_type": "code",
   "execution_count": 19,
   "metadata": {},
   "outputs": [
    {
     "name": "stdout",
     "output_type": "stream",
     "text": [
      "다람쥐\n",
      "화요일\n"
     ]
    }
   ],
   "source": [
    "class Character:\n",
    "    nickname = '다람쥐'\n",
    "\n",
    "    def __init__(self, nickname):\n",
    "        self.nickname = nickname\n",
    "\n",
    "character = Character('화요일')\n",
    "\n",
    "print(Character.nickname)\n",
    "\n",
    "print(character.nickname)"
   ]
  },
  {
   "cell_type": "code",
   "execution_count": 24,
   "metadata": {},
   "outputs": [
    {
     "name": "stdout",
     "output_type": "stream",
     "text": [
      "연필\n",
      "('키보드', '펜')\n",
      "펜\n"
     ]
    }
   ],
   "source": [
    "tool = '연필'\n",
    "\n",
    "def namespace_test():\n",
    "    local_tool = '키보드'\n",
    "    global tool\n",
    "    tool = '펜'\n",
    "    return local_tool, tool\n",
    "\n",
    "\n",
    "print(tool)\n",
    "print(namespace_test())\n",
    "\n",
    "print(tool)"
   ]
  },
  {
   "cell_type": "code",
   "execution_count": 44,
   "metadata": {},
   "outputs": [
    {
     "name": "stdout",
     "output_type": "stream",
     "text": [
      "['노트북, 책상', '망치']\n"
     ]
    }
   ],
   "source": [
    "class Toolbox:\n",
    "    tools = ['노트북, 책상']\n",
    "    def __init__(self):\n",
    "        self.tools = __class__.tools\n",
    "\n",
    "    def add_tool(self, tools):\n",
    "        self.tools.append(tools)\n",
    "\n",
    "tls = Toolbox()\n",
    "\n",
    "tls.add_tool('망치')\n",
    "\n",
    "print(tls.tools)\n",
    "\n"
   ]
  },
  {
   "cell_type": "code",
   "execution_count": 57,
   "metadata": {},
   "outputs": [
    {
     "name": "stdout",
     "output_type": "stream",
     "text": [
      "작성중\n",
      "완료\n"
     ]
    }
   ],
   "source": [
    "def nested_function():\n",
    "    status = '작성중'\n",
    "    def inner_nested_function():\n",
    "        nonlocal status\n",
    "        status = '완료'\n",
    "\n",
    "    print(status)\n",
    "    inner_nested_function()\n",
    "    print(status)\n",
    "\n",
    "nested_function()"
   ]
  },
  {
   "cell_type": "code",
   "execution_count": 62,
   "metadata": {},
   "outputs": [
    {
     "name": "stdout",
     "output_type": "stream",
     "text": [
      "안녕하세요, 저는 한국에서 왔습니다.\n",
      "안녕하세요, 저는 김영서입니다. LLM분야에 관심이 있습니다.\n"
     ]
    }
   ],
   "source": [
    "class Person:\n",
    "    national = \"Korea\"\n",
    "\n",
    "    def introduce(self):\n",
    "        return f\"안녕하세요, 저는 한국에서 왔습니다.\"\n",
    "\n",
    "class Candidate(Person):\n",
    "\n",
    "    def __init__(self, name, field):\n",
    "        self.name = name\n",
    "        self.field = field \n",
    "\n",
    "    def introduce(self):\n",
    "        return f'안녕하세요, 저는 {self.name}입니다. {self.field}분야에 관심이 있습니다.'\n",
    "    \n",
    "ps = Person()\n",
    "cd = Candidate('김영서', 'LLM')\n",
    "\n",
    "print(ps.introduce())\n",
    "print(cd.introduce())"
   ]
  },
  {
   "cell_type": "code",
   "execution_count": 66,
   "metadata": {},
   "outputs": [
    {
     "name": "stdout",
     "output_type": "stream",
     "text": [
      "이직 준비를 도와드립니다.\n",
      "이직에 필요한 기술을 가르쳐드립니다.\n",
      "여러방면으로 지원을 아끼지 않겠습니다.\n"
     ]
    }
   ],
   "source": [
    "class Mentor:\n",
    "    def guide(self):\n",
    "        return '이직 준비를 도와드립니다.'\n",
    "\n",
    "class Lecturer:\n",
    "    def teach(self):\n",
    "        return '이직에 필요한 기술을 가르쳐드립니다.'\n",
    "    \n",
    "class Coach(Mentor, Lecturer):\n",
    "    def support(self):\n",
    "        return '여러방면으로 지원을 아끼지 않겠습니다.'\n",
    "    \n",
    "mt = Mentor()\n",
    "lt = Lecturer()\n",
    "ch = Coach()\n",
    "\n",
    "print(ch.guide())\n",
    "print(ch.teach())\n",
    "print(ch.support())"
   ]
  },
  {
   "cell_type": "code",
   "execution_count": 67,
   "metadata": {},
   "outputs": [],
   "source": [
    "class Person:\n",
    "    def __init__(self, name, national):\n",
    "        self.name = name \n",
    "        self. national = national\n",
    "\n",
    "    def introduce(self):\n",
    "        return f'안녕하세요, 저는 {self.name}입니다. {self.national}에서 왔습니다.'\n",
    "    \n",
    "class Candidate(Person):\n",
    "    def introduce(self):\n",
    "        return f'안녕하세요 제 이름은 {self.name}이고, 이직 준비중 입니다.'"
   ]
  },
  {
   "cell_type": "code",
   "execution_count": 70,
   "metadata": {},
   "outputs": [
    {
     "name": "stdout",
     "output_type": "stream",
     "text": [
      "안녕하세요, 저는 김영서입니다. Korea에서 왔습니다.\n",
      "안녕하세요 제 이름은 두꺼비이고, 이직 준비중 입니다.\n"
     ]
    }
   ],
   "source": [
    "psn = Person('김영서', 'Korea')\n",
    "cdd = Candidate('두꺼비', 'Korea')\n",
    "\n",
    "print(psn.introduce())\n",
    "print(cdd.introduce())\n"
   ]
  },
  {
   "cell_type": "code",
   "execution_count": 77,
   "metadata": {},
   "outputs": [
    {
     "name": "stdout",
     "output_type": "stream",
     "text": [
      "저는 LLM분야의 강사이며, 이직 준비를 도와드립니다.\n",
      "저는 9년의 강의 경력을 가지고 있습니다.\n"
     ]
    }
   ],
   "source": [
    "class Mentor:\n",
    "    def __init__(self, field):\n",
    "        self.field = field\n",
    "    def guide(self):\n",
    "        return f'저는 {self.field}분야의 멘토입니다.'\n",
    "\n",
    "class Lecturer:\n",
    "    def __init__(self, experience):\n",
    "        self.experience = experience\n",
    "    def teach(self):\n",
    "        return f'저는 {self.experience}년의 강의 경력을 가지고 있습니다.'\n",
    "    \n",
    "class Candidate(Mentor, Lecturer):\n",
    "    def guide(self):\n",
    "        return f\"저는 {self.field}분야의 강사이며, 이직 준비를 도와드립니다.\"\n",
    "    \n",
    "mtr = Mentor('LLM')\n",
    "ltr = Lecturer(9)\n",
    "cddt = Candidate('LLM')\n",
    "\n",
    "print(cddt.guide())\n",
    "print(ltr.teach())\n",
    "\n",
    "\n"
   ]
  },
  {
   "cell_type": "code",
   "execution_count": 8,
   "metadata": {},
   "outputs": [
    {
     "name": "stdout",
     "output_type": "stream",
     "text": [
      "<\n"
     ]
    }
   ],
   "source": [
    "a, b = map(int, input().split())\n",
    "if a > b:\n",
    "    print(\">\")\n",
    "elif a < b:\n",
    "    print(\"<\")\n",
    "elif a == b:\n",
    "    print('==')\n",
    "\n",
    "\n"
   ]
  },
  {
   "cell_type": "code",
   "execution_count": 9,
   "metadata": {},
   "outputs": [],
   "source": [
    "f = open('diary2.txt', 'w', encoding= 'utf-8')\n",
    "f.write('오늘은 파일 입출력을 배웠습니다.\\n')\n",
    "f.write('다양한 파일 확장자와 접근 모드를 사용할 수 있다는 점이 흥미로웠습니다.')\n",
    "f.close()"
   ]
  },
  {
   "cell_type": "code",
   "execution_count": 11,
   "metadata": {},
   "outputs": [
    {
     "name": "stdout",
     "output_type": "stream",
     "text": [
      "오늘은 파일 입출력을 배웠습니다.\n",
      "다양한 파일 확장자와 접근 모드를 사용할 수 있다는 점이 흥미로웠습니다.\n"
     ]
    }
   ],
   "source": [
    "with open('diary2.txt', 'r', encoding= 'utf-8') as f:\n",
    "    print(f.read())"
   ]
  },
  {
   "cell_type": "code",
   "execution_count": 12,
   "metadata": {},
   "outputs": [
    {
     "name": "stdout",
     "output_type": "stream",
     "text": [
      "회사명,직무,결과\n",
      "\n",
      "회사A,데이터 분석가,합격\n",
      "\n",
      "회사B,소프트웨어 엔지니어,불합격\n",
      "\n",
      "회사C,제품관리자,진행 중\n",
      "\n"
     ]
    }
   ],
   "source": [
    "import csv \n",
    "\n",
    "with open('applications2.csv', 'w', encoding='utf-8') as f:\n",
    "    writer = csv.writer(f)\n",
    "    writer.writerow(['회사명','직무', '결과'])\n",
    "    writer.writerow(['회사A', '데이터 분석가', '합격'])\n",
    "    writer.writerow(['회사B', '소프트웨어 엔지니어', '불합격'])\n",
    "    writer.writerow(['회사C', '제품관리자', '진행 중'])\n",
    "\n",
    "with open('applications2.csv', 'r', encoding= 'utf-8') as f:\n",
    "    reader = csv.reader(f)\n",
    "    for row in reader:\n",
    "        print(','.join(row))"
   ]
  },
  {
   "cell_type": "code",
   "execution_count": 13,
   "metadata": {},
   "outputs": [
    {
     "name": "stdout",
     "output_type": "stream",
     "text": [
      "[WARN] 2024-01-01 12:05:00: 메모리사용량 증가\n",
      "\n",
      "[ERROR] 2024-01-01 12:10:00: 프로그램 종료\n"
     ]
    }
   ],
   "source": [
    "with open('system1.log','w', encoding='utf-8') as f:\n",
    "    log_content = ['[INFO] 2024-01-01 12:00:00: 시스템 시작\\n','[WARN] 2024-01-01 12:05:00: 메모리사용량 증가\\n','[ERROR] 2024-01-01 12:10:00: 프로그램 종료']\n",
    "    f.writelines(log_content)\n",
    "    f.close()\n",
    "\n",
    "with open('system1.log', 'r', encoding= 'utf-8') as f:\n",
    "    for line in f:\n",
    "        if 'WARN' in line or 'ERROR' in line:\n",
    "            print(line) "
   ]
  },
  {
   "cell_type": "code",
   "execution_count": 14,
   "metadata": {},
   "outputs": [
    {
     "name": "stdout",
     "output_type": "stream",
     "text": [
      "파일이 존재하지 않습니다.\n"
     ]
    }
   ],
   "source": [
    "try:\n",
    "    with open('data.txt', 'r', encoding= 'utf-8') as f:\n",
    "        f.read = f.read()\n",
    "except FileNotFoundError:\n",
    "    print('파일이 존재하지 않습니다.')"
   ]
  },
  {
   "cell_type": "code",
   "execution_count": 15,
   "metadata": {},
   "outputs": [
    {
     "name": "stdout",
     "output_type": "stream",
     "text": [
      "미성년자입니다.\n"
     ]
    }
   ],
   "source": [
    "try:\n",
    "    age = int(input('나이: '))\n",
    "    if age >= 19:\n",
    "        print('성인입니다.')\n",
    "    else:\n",
    "        print('미성년자입니다.')\n",
    "\n",
    "except ValueError:\n",
    "    print('숫자를 입력해야 합니다.')"
   ]
  },
  {
   "cell_type": "code",
   "execution_count": null,
   "metadata": {},
   "outputs": [
    {
     "name": "stdout",
     "output_type": "stream",
     "text": [
      "숫자를 입력해야합니다.\n"
     ]
    },
    {
     "ename": "E",
     "evalue": "division by zero",
     "output_type": "error",
     "traceback": [
      "\u001b[1;31m---------------------------------------------------------------------------\u001b[0m",
      "\u001b[1;31mValueError\u001b[0m                                Traceback (most recent call last)",
      "Cell \u001b[1;32mIn[20], line 7\u001b[0m\n\u001b[0;32m      6\u001b[0m \u001b[38;5;28;01mtry\u001b[39;00m:\n\u001b[1;32m----> 7\u001b[0m     a \u001b[38;5;241m=\u001b[39m \u001b[38;5;28;43mint\u001b[39;49m\u001b[43m(\u001b[49m\u001b[38;5;28;43minput\u001b[39;49m\u001b[43m(\u001b[49m\u001b[38;5;124;43m'\u001b[39;49m\u001b[38;5;124;43m첫번째 숫자: \u001b[39;49m\u001b[38;5;124;43m'\u001b[39;49m\u001b[43m)\u001b[49m\u001b[43m)\u001b[49m\n\u001b[0;32m      8\u001b[0m     b \u001b[38;5;241m=\u001b[39m \u001b[38;5;28mint\u001b[39m(\u001b[38;5;28minput\u001b[39m(\u001b[38;5;124m'\u001b[39m\u001b[38;5;124m두번째 숫자: \u001b[39m\u001b[38;5;124m'\u001b[39m))\n",
      "\u001b[1;31mValueError\u001b[0m: invalid literal for int() with base 10: 'tasdt'",
      "\nDuring handling of the above exception, another exception occurred:\n",
      "\u001b[1;31mE\u001b[0m                                         Traceback (most recent call last)",
      "Cell \u001b[1;32mIn[20], line 15\u001b[0m\n\u001b[0;32m     13\u001b[0m \u001b[38;5;28;01mexcept\u001b[39;00m \u001b[38;5;167;01mValueError\u001b[39;00m:\n\u001b[0;32m     14\u001b[0m     \u001b[38;5;28mprint\u001b[39m(\u001b[38;5;124m'\u001b[39m\u001b[38;5;124m숫자를 입력해야합니다.\u001b[39m\u001b[38;5;124m'\u001b[39m)\n\u001b[1;32m---> 15\u001b[0m     \u001b[38;5;28;01mraise\u001b[39;00m E(e)\n",
      "\u001b[1;31mE\u001b[0m: division by zero"
     ]
    }
   ],
   "source": [
    "class E(Exception):\n",
    "    pass\n",
    "\n",
    "e = 'division by zero'\n",
    "\n",
    "try:\n",
    "    a = int(input('첫번째 숫자: '))\n",
    "    b = int(input('두번째 숫자: '))\n",
    "    print(a / b)\n",
    "except ZeroDivisionError:\n",
    "    print('0으로 나눌 수 없습니다.', e)\n",
    "\n",
    "except ValueError:\n",
    "    print('숫자를 입력해야합니다.')\n",
    "    raise E(e)"
   ]
  },
  {
   "cell_type": "code",
   "execution_count": 21,
   "metadata": {},
   "outputs": [
    {
     "name": "stdout",
     "output_type": "stream",
     "text": [
      "파일을 열 수 없습니다.\n",
      "파일 자원 정리 완료.\n"
     ]
    }
   ],
   "source": [
    "try:\n",
    "    f = open('log.txt', 'r', encoding= 'utf-8')\n",
    "    print(f.read())\n",
    "\n",
    "except FileNotFoundError:\n",
    "    print('파일을 열 수 없습니다.')\n",
    "\n",
    "finally:\n",
    "    if f:\n",
    "        f.close()\n",
    "    print('파일 자원 정리 완료.')\n",
    "\n",
    "    "
   ]
  },
  {
   "cell_type": "code",
   "execution_count": 22,
   "metadata": {},
   "outputs": [
    {
     "name": "stdout",
     "output_type": "stream",
     "text": [
      "3.0\n"
     ]
    }
   ],
   "source": [
    "try: \n",
    "    num = int(input('숫자 입력: '))\n",
    "\n",
    "except ValueError:\n",
    "    print('숫자를 입력해야 합니다.')\n",
    "\n",
    "else:\n",
    "    print(num / 2)"
   ]
  },
  {
   "cell_type": "code",
   "execution_count": 23,
   "metadata": {},
   "outputs": [
    {
     "name": "stdout",
     "output_type": "stream",
     "text": [
      "323.0\n"
     ]
    }
   ],
   "source": [
    "try:\n",
    "    num = int(input('숫자 입력: '))\n",
    "    print(num /2)\n",
    "\n",
    "except ValueError:\n",
    "    print(\"숫자를 입력해야 합니다.\")"
   ]
  },
  {
   "cell_type": "code",
   "execution_count": 1,
   "metadata": {},
   "outputs": [
    {
     "name": "stdout",
     "output_type": "stream",
     "text": [
      "30\n"
     ]
    }
   ],
   "source": [
    "a, b = map(int,input().split())\n",
    "print(a*b)"
   ]
  },
  {
   "cell_type": "code",
   "execution_count": 3,
   "metadata": {},
   "outputs": [
    {
     "name": "stdout",
     "output_type": "stream",
     "text": [
      "1.2\n"
     ]
    }
   ],
   "source": [
    "a, b = map(int, input().split())\n",
    "print(a/b)"
   ]
  },
  {
   "cell_type": "code",
   "execution_count": 12,
   "metadata": {},
   "outputs": [
    {
     "name": "stdout",
     "output_type": "stream",
     "text": [
      "11\n",
      "-1\n",
      "30\n",
      "0.8333333333333334\n",
      "5\n"
     ]
    }
   ],
   "source": [
    "a, b = map(int,input().split())\n",
    "a >= 1 and b <=10000\n",
    "print(a + b)\n",
    "print(a - b)\n",
    "print(a * b)\n",
    "print(a / b)\n",
    "print(a % b)\n"
   ]
  },
  {
   "cell_type": "code",
   "execution_count": 21,
   "metadata": {},
   "outputs": [
    {
     "name": "stdout",
     "output_type": "stream",
     "text": [
      "baekjoon??!\n"
     ]
    }
   ],
   "source": [
    "a = input()\n",
    "print(a + '??!')"
   ]
  },
  {
   "cell_type": "code",
   "execution_count": 23,
   "metadata": {},
   "outputs": [
    {
     "name": "stdout",
     "output_type": "stream",
     "text": [
      "1957\n"
     ]
    }
   ],
   "source": [
    "a = int(input())\n",
    "print(a - 543)"
   ]
  },
  {
   "cell_type": "code",
   "execution_count": 1,
   "metadata": {},
   "outputs": [
    {
     "name": "stdout",
     "output_type": "stream",
     "text": [
      "3\n",
      "3\n",
      "2\n",
      "2\n",
      "15\n"
     ]
    }
   ],
   "source": [
    "a, b, c = map(int, input().split())\n",
    "print((a+b)%c)\n",
    "print(((a%c)+(b%c))%c)\n",
    "print((a*b)%c)\n",
    "print(((a%c))*((b%c))%c)\n",
    "print(a + b + c)"
   ]
  }
 ],
 "metadata": {
  "kernelspec": {
   "display_name": "pystudy_env",
   "language": "python",
   "name": "python3"
  },
  "language_info": {
   "codemirror_mode": {
    "name": "ipython",
    "version": 3
   },
   "file_extension": ".py",
   "mimetype": "text/x-python",
   "name": "python",
   "nbconvert_exporter": "python",
   "pygments_lexer": "ipython3",
   "version": "3.12.8"
  }
 },
 "nbformat": 4,
 "nbformat_minor": 2
}
