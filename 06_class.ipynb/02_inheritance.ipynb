{
 "cells": [
  {
   "cell_type": "markdown",
   "metadata": {
    "vscode": {
     "languageId": "plaintext"
    }
   },
   "source": [
    "## 상속\n"
   ]
  },
  {
   "cell_type": "code",
   "execution_count": 19,
   "metadata": {},
   "outputs": [],
   "source": [
    "class Person:\n",
    "   \n",
    "    def __init__(self, name, phone):\n",
    "        self.name = name\n",
    "        self.phone = phone\n",
    "\n",
    "    def __str__(self):\n",
    "        return f'<Person {self.name}>'\n",
    "\n",
    "        \n",
    "\n"
   ]
  },
  {
   "cell_type": "code",
   "execution_count": 20,
   "metadata": {},
   "outputs": [],
   "source": [
    "class Student(Person):\n",
    "\n",
    "    def __init__(self, name, phone, hobby): \n",
    "        # Person.__init__(self, name)           # 부모클래스명.__init__(self, ...)\n",
    "        # super().__init__(name)                # super().__init__(...)\n",
    "        super().__init__(name, phone)\n",
    "        # self.phone = phone\n",
    "        self.hobby = hobby\n",
    "        "
   ]
  },
  {
   "cell_type": "code",
   "execution_count": 21,
   "metadata": {},
   "outputs": [
    {
     "name": "stdout",
     "output_type": "stream",
     "text": [
      "홍길동\n",
      "<Person 홍길동>\n",
      "김둘리 01033334444 파이썬 공부하기\n",
      "<Person 김둘리>\n",
      "박또치 01011112222 열심히 공부하기\n",
      "<Person 박또치>\n"
     ]
    }
   ],
   "source": [
    "p1 = Person('홍길동', '01044445555')\n",
    "print(p1.name)\n",
    "print(p1)\n",
    "\n",
    "s1 = Student('김둘리', '01033334444', '파이썬 공부하기')\n",
    "s2 = Student('박또치', '01011112222', '열심히 공부하기')\n",
    "\n",
    "print(s1.name, s1.phone, s1.hobby)\n",
    "print(s1)\n",
    "print(s2.name, s2.phone, s2.hobby)\n",
    "print(s2)\n",
    "\n"
   ]
  },
  {
   "cell_type": "markdown",
   "metadata": {},
   "source": [
    "---\n",
    "## 다중 상속"
   ]
  },
  {
   "cell_type": "code",
   "execution_count": 34,
   "metadata": {},
   "outputs": [],
   "source": [
    "class Person:\n",
    "    fingers = 10\n",
    "    eyes = 2 \n",
    "\n",
    "    def introduce(self):\n",
    "        return \"저는 사람입니다.\"\n",
    "    \n",
    "class Animal:\n",
    "    fur = True \n",
    "\n",
    "    def introduce(self):\n",
    "        return \"저는 동물입니다.\"\n",
    "    \n",
    "class BanInBanSu(Animal, Person):\n",
    "    pass \n",
    "\n"
   ]
  },
  {
   "cell_type": "code",
   "execution_count": 35,
   "metadata": {},
   "outputs": [
    {
     "name": "stdout",
     "output_type": "stream",
     "text": [
      "10 2 True\n",
      "저는 동물입니다.\n"
     ]
    }
   ],
   "source": [
    "b1 = BanInBanSu()\n",
    "\n",
    "print(b1.fingers, b1.eyes, b1.fur)\n",
    "\n",
    "print(b1.introduce())"
   ]
  },
  {
   "cell_type": "markdown",
   "metadata": {},
   "source": [
    "---\n",
    "## 오버라이딩\n"
   ]
  },
  {
   "cell_type": "code",
   "execution_count": 39,
   "metadata": {},
   "outputs": [],
   "source": [
    "class Animal:\n",
    "    species = '동물'\n",
    "\n",
    "    def introduce(self):\n",
    "        print(\"동물의 왕국에 오신 것을 환영합니다. :)\")\n",
    "\n",
    "class Mammalia(Animal):\n",
    "    species = '포유류'\n",
    "    \n",
    "    def has_fur(self):\n",
    "        return True\n",
    "    \n",
    "class Squirrel(Mammalia):\n",
    "    name = '다람쥐'\n",
    "\n",
    "    def eat(self):\n",
    "        print('도토리는 정말 맛있어 냠냠냠')\n",
    "\n",
    "class SquirrelTeacher(Squirrel):\n",
    "    def introduce(self):\n",
    "        print('안녕하세요 다람쥐 강사입니다~!')\n",
    "\n"
   ]
  },
  {
   "cell_type": "code",
   "execution_count": 56,
   "metadata": {},
   "outputs": [
    {
     "name": "stdout",
     "output_type": "stream",
     "text": [
      "안녕하세요 다람쥐 강사입니다~!\n",
      "도토리는 정말 맛있어 냠냠냠\n",
      "다람쥐\n",
      "포유류\n",
      "True\n",
      "포유류\n",
      "안녕하세요 다람쥐 강사입니다~!\n"
     ]
    }
   ],
   "source": [
    "st = SquirrelTeacher()\n",
    "\n",
    "st.introduce()\n",
    "st.eat()\n",
    "\n",
    "print(st.name)\n",
    "\n",
    "print(st.species)\n",
    "\n",
    "print(st.has_fur())\n",
    "\n",
    "print(st.species)\n",
    "st.introduce()"
   ]
  },
  {
   "cell_type": "code",
   "execution_count": 57,
   "metadata": {},
   "outputs": [
    {
     "data": {
      "text/plain": [
       "(__main__.SquirrelTeacher,\n",
       " __main__.Squirrel,\n",
       " __main__.Mammalia,\n",
       " __main__.Animal,\n",
       " object)"
      ]
     },
     "execution_count": 57,
     "metadata": {},
     "output_type": "execute_result"
    }
   ],
   "source": [
    "SquirrelTeacher.__mro__ "
   ]
  },
  {
   "cell_type": "markdown",
   "metadata": {},
   "source": [
    "---\n",
    "### 실습"
   ]
  },
  {
   "cell_type": "markdown",
   "metadata": {},
   "source": [
    "### 문제 1: **기본 상속을 활용한 클래스 생성**\n",
    "\n",
    "다람쥐는 이직을 준비하며 새로운 직업군을 탐색하고 있습니다. 다람쥐의 기본적인 정보를 담는 `Person` 클래스를 만들고, 이를 상속받는 `Candidate` 클래스를 생성하세요.\n",
    "\n",
    "1. `Person` 클래스:\n",
    "    - 클래스 속성 `national`은 \"Korea\"로 설정합니다.\n",
    "    - 메서드 `introduce`는 `\"안녕하세요, 저는 한국에서 왔습니다.\"`를 반환합니다.\n",
    "2. `Candidate` 클래스:\n",
    "    - `Person` 클래스를 상속받습니다.\n",
    "    - 생성자에서 이름(`name`)과 관심 분야(`field`)를 매개변수로 받아 저장합니다.\n",
    "    - 메서드 `introduce`를 오버라이드하여 `\"안녕하세요, 저는 [name]입니다. [field] 분야에 관심이 있습니다.\"`를 반환합니다."
   ]
  },
  {
   "cell_type": "code",
   "execution_count": 75,
   "metadata": {},
   "outputs": [
    {
     "name": "stdout",
     "output_type": "stream",
     "text": [
      "김영서\n",
      "파이썬\n",
      "안녕하세요, 저는 김영서입니다. 파이썬분야에 관심이 있습니다.\n",
      "Korea\n",
      "안녕하세요, 저는 김영서입니다. 파이썬분야에 관심이 있습니다.\n"
     ]
    }
   ],
   "source": [
    "class Person:\n",
    "    national = \"Korea\"\n",
    "\n",
    "    def introduce(self):\n",
    "        return \"안녕하세요, 저는 한국에서 왔습니다.\"\n",
    "    \n",
    "class Candidate(Person):\n",
    "\n",
    "    def __init__(self, name, field):\n",
    "        self.name = name\n",
    "        self.field = field\n",
    "\n",
    "    def introduce(self):\n",
    "        return f\"안녕하세요, 저는 {self.name}입니다. {self.field}분야에 관심이 있습니다.\"\n",
    "    \n",
    "cd = Candidate('김영서', '파이썬')\n",
    "\n",
    "print(cd.name)\n",
    "\n",
    "print(cd.field)\n",
    "\n",
    "print(cd.introduce())\n",
    "\n",
    "print(cd.national)\n",
    "\n",
    "print(cd.introduce())\n",
    "\n"
   ]
  },
  {
   "cell_type": "code",
   "execution_count": 76,
   "metadata": {},
   "outputs": [
    {
     "name": "stdout",
     "output_type": "stream",
     "text": [
      "안녕하세요, 저는 한국에서 왔습니다.\n",
      "안녕하세요, 저는 다람쥐입니다. LLM 분야에 관심이 있습니다.\n",
      "Korea\n",
      "Korea\n"
     ]
    }
   ],
   "source": [
    "class Person:\n",
    "    national = 'Korea'\n",
    "    \n",
    "    def introduce(self):\n",
    "        return \"안녕하세요, 저는 한국에서 왔습니다.\"\n",
    "    \n",
    "\n",
    "class Candidate(Person):\n",
    "    def __init__(self, name, field):\n",
    "        self.name = name\n",
    "        self.field = field\n",
    "\n",
    "    def introduce(self):\n",
    "        return f\"안녕하세요, 저는 {self.name}입니다. {self.field} 분야에 관심이 있습니다.\"\n",
    "    \n",
    "\n",
    "p = Person()\n",
    "c = Candidate('다람쥐', 'LLM')\n",
    "\n",
    "print(p.introduce())\n",
    "print(c.introduce())\n",
    "\n",
    "print(c.national)\n",
    "print(p.national)\n",
    "\n",
    "\n",
    "\n"
   ]
  },
  {
   "cell_type": "markdown",
   "metadata": {},
   "source": [
    "### 문제 2: **다중 상속을 활용한 클래스 생성**\n",
    "\n",
    "다람쥐는 이직을 준비하며 여러 강사님들의 도움을 받고 있습니다. 강사의 역할을 분리한 클래스를 만들어 상속 구조를 테스트하세요.\n",
    "\n",
    "1. `Mentor` 클래스:\n",
    "    - 메서드 `guide`는 `\"이직 준비를 도와드립니다.\"`를 반환합니다.\n",
    "2. `Lecturer` 클래스:\n",
    "    - 메서드 `teach`는 `\"이직에 필요한 기술을 가르쳐드립니다.\"`를 반환합니다.\n",
    "3. `Coach` 클래스:\n",
    "    - `Mentor`와 `Lecturer` 클래스를 다중 상속받습니다.\n",
    "    - 메서드 `support`는 `\"여러 방면으로 지원을 아끼지 않겠습니다.\"`를 반환합니다."
   ]
  },
  {
   "cell_type": "code",
   "execution_count": 82,
   "metadata": {},
   "outputs": [
    {
     "name": "stdout",
     "output_type": "stream",
     "text": [
      "이직 준비를 도와드립니다.\n",
      "이직에 필요한 기술을 가르쳐드립니다.\n",
      "여러 방면으로 지원을 아끼지 않겠습니다.\n",
      "이직 준비를 도와드립니다.\n",
      "이직에 필요한 기술을 가르쳐드립니다.\n"
     ]
    }
   ],
   "source": [
    "class Mentor:\n",
    "    def guide(self):\n",
    "        return \"이직 준비를 도와드립니다.\"\n",
    "    \n",
    "class Lecturer:\n",
    "    def teach(self):\n",
    "        return \"이직에 필요한 기술을 가르쳐드립니다.\"\n",
    "    \n",
    "class Coach(Mentor, Lecturer):\n",
    "    def support(self):\n",
    "        return \"여러 방면으로 지원을 아끼지 않겠습니다.\"\n",
    "    \n",
    "c = Coach()\n",
    "m = Mentor()\n",
    "l = Lecturer()\n",
    "\n",
    "\n",
    "print(c.guide())\n",
    "print(c.teach())\n",
    "print(c.support())\n",
    "\n",
    "\n",
    "print(m.guide())\n",
    "# print(m.teach())\n",
    "# print(m.support())\n",
    "\n",
    "\n",
    "# print(l.guide())\n",
    "print(l.teach())\n",
    "# print(l.support())\n"
   ]
  },
  {
   "cell_type": "markdown",
   "metadata": {},
   "source": [
    "### 문제 3: **부모 클래스 속성 오버라이딩**\n",
    "\n",
    "다람쥐는 이직 준비를 위해 개인적인 특성을 강조하고 있습니다. 부모 클래스의 메서드를 오버라이딩하여 각기 다른 인스턴스를 만들어보세요.\n",
    "\n",
    "1. `Person` 클래스:\n",
    "    - 속성 `name`과 `national`을 생성자로 받아 저장합니다.\n",
    "    - 메서드 `introduce`는 `\"안녕하세요, 저는 [name]입니다. 저는 [national]에서 왔습니다.\"`를 반환합니다.\n",
    "2. `Candidate` 클래스:\n",
    "    - `Person` 클래스를 상속받습니다.\n",
    "    - `introduce` 메서드를 오버라이드하여 `\"안녕하세요, 제 이름은 [name]이고, 이직 준비 중입니다.\"`를 반환합니다."
   ]
  },
  {
   "cell_type": "code",
   "execution_count": 122,
   "metadata": {},
   "outputs": [
    {
     "name": "stdout",
     "output_type": "stream",
     "text": [
      "안녕하세요, 저는 김영서입니다. 저는 한국에서 왔습니다.\n",
      "안녕하세요, 저는 나나이고, 이직 준비중입니다.\n"
     ]
    }
   ],
   "source": [
    "class Person:\n",
    "    def __init__(self, name, national):\n",
    "        self.name = name\n",
    "        self.national = national\n",
    "    \n",
    "    def introduce(self):\n",
    "        return f\"안녕하세요, 저는 {self.name}입니다. 저는 {self.national}에서 왔습니다.\"\n",
    "    \n",
    "class Candidate(Person):\n",
    "\n",
    "    def introduce(self):\n",
    "        return f\"안녕하세요, 저는 {self.name}이고, 이직 준비중입니다.\"\n",
    "    \n",
    "person = Person('김영서', '한국')\n",
    "candidate = Candidate('나나', '일본')\n",
    "\n",
    "print(person.introduce())\n",
    "print(candidate.introduce())\n"
   ]
  },
  {
   "cell_type": "markdown",
   "metadata": {},
   "source": [
    "### 문제 4: **상속의 특성 통합 테스트**\n",
    "\n",
    "다람쥐는 강사님들의 지도를 받으며 다양한 분야에서 경험을 쌓고 있습니다. 상속과 메서드 오버라이딩, 다중 상속을 종합적으로 테스트하세요.\n",
    "\n",
    "1. `Mentor` 클래스:\n",
    "    - 속성 `field`를 생성자로 받아 저장합니다.\n",
    "    - 메서드 `guide`는 `\"저는 [field] 분야의 멘토입니다.\"`를 반환합니다.\n",
    "2. `Lecturer` 클래스:\n",
    "    - 속성 `experience`를 생성자로 받아 저장합니다.\n",
    "    - 메서드 `teach`는 `\"저는 [experience]년의 강의 경력을 가지고 있습니다.\"`를 반환합니다.\n",
    "3. `Candidate` 클래스:\n",
    "    - `Mentor`와 `Lecturer` 클래스를 다중 상속받습니다.\n",
    "    - `guide` 메서드를 오버라이드하여 `\"저는 [field] 분야의 강사이며, 이직 준비를 도와드립니다.\"`를 반환합니다.\n",
    "    "
   ]
  },
  {
   "cell_type": "code",
   "execution_count": 125,
   "metadata": {},
   "outputs": [
    {
     "name": "stdout",
     "output_type": "stream",
     "text": [
      "저는 파이썬분야의 강사이며, 이직 준비를 도와드립니다.\n",
      "저는 7년의 강의 경력을 가지고 있습니다.\n",
      "저는 파이썬분야의 멘토입니다.\n",
      "저는 파이썬분야의 강사이며, 이직 준비를 도와드립니다.\n"
     ]
    }
   ],
   "source": [
    "class Mentor:\n",
    "\n",
    "    def __init__(self, field):\n",
    "        self.field = field\n",
    "\n",
    "    def guide(self):\n",
    "        return f\"저는 {self.field}분야의 멘토입니다.\"\n",
    "    \n",
    "class Lecturer: \n",
    "    def __init__(self, experience):\n",
    "        self.experience = experience\n",
    "\n",
    "    def teach(self):\n",
    "        return f\"저는 {self.experience}년의 강의 경력을 가지고 있습니다.\"\n",
    "    \n",
    "class Candidate(Mentor, Lecturer):\n",
    "    def guide(self):\n",
    "        return f\"저는 {self.field}분야의 강사이며, 이직 준비를 도와드립니다.\"\n",
    "    \n",
    "m = Mentor('파이썬')\n",
    "l = Lecturer(7)\n",
    "c = Candidate('파이썬')\n",
    "\n",
    "print(c.guide())\n",
    "print(l.teach())\n",
    "print(m.guide())\n",
    "\n",
    "print(c.guide())\n",
    "\n",
    "\n"
   ]
  }
 ],
 "metadata": {
  "kernelspec": {
   "display_name": "pystudy_env",
   "language": "python",
   "name": "python3"
  },
  "language_info": {
   "codemirror_mode": {
    "name": "ipython",
    "version": 3
   },
   "file_extension": ".py",
   "mimetype": "text/x-python",
   "name": "python",
   "nbconvert_exporter": "python",
   "pygments_lexer": "ipython3",
   "version": "3.12.8"
  }
 },
 "nbformat": 4,
 "nbformat_minor": 2
}
