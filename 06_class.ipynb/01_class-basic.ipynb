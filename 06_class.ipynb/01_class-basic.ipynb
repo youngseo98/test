{
 "cells": [
  {
   "cell_type": "markdown",
   "metadata": {},
   "source": [
    "## 클래스"
   ]
  },
  {
   "cell_type": "code",
   "execution_count": 58,
   "metadata": {},
   "outputs": [],
   "source": [
    "class Student:\n",
    "    \n",
    "    # 1. 클래스 속성\n",
    "    dream = \"취업\"\n",
    "\n",
    "    # 2. 생성자\n",
    "    def __init__(self, name, phone):\n",
    "        self.name = name\n",
    "        self.phone = phone \n",
    "        \n",
    "\n",
    "    # 3. 매서드\n",
    "    def study(self):\n",
    "        print(\"오늘도 열심히 공부하는 9기 학생!\")"
   ]
  },
  {
   "cell_type": "code",
   "execution_count": 59,
   "metadata": {},
   "outputs": [
    {
     "name": "stdout",
     "output_type": "stream",
     "text": [
      "취업\n",
      "남윤진 01049439778\n",
      "오늘도 열심히 공부하는 9기 학생!\n"
     ]
    }
   ],
   "source": [
    "student = Student('남윤진', '01049439778') \n",
    "\n",
    "print(student.dream)\n",
    "print(student.name, student.phone)\n",
    "student.study()"
   ]
  },
  {
   "cell_type": "code",
   "execution_count": 62,
   "metadata": {},
   "outputs": [
    {
     "ename": "TypeError",
     "evalue": "Student.__init__() missing 2 required positional arguments: 'name' and 'phone'",
     "output_type": "error",
     "traceback": [
      "\u001b[1;31m---------------------------------------------------------------------------\u001b[0m",
      "\u001b[1;31mTypeError\u001b[0m                                 Traceback (most recent call last)",
      "Cell \u001b[1;32mIn[62], line 1\u001b[0m\n\u001b[1;32m----> 1\u001b[0m student1 \u001b[38;5;241m=\u001b[39m \u001b[43mStudent\u001b[49m\u001b[43m(\u001b[49m\u001b[43m)\u001b[49m\n\u001b[0;32m      2\u001b[0m student2 \u001b[38;5;241m=\u001b[39m Student()\n\u001b[0;32m      4\u001b[0m student1\u001b[38;5;241m.\u001b[39mintroduce()\n",
      "\u001b[1;31mTypeError\u001b[0m: Student.__init__() missing 2 required positional arguments: 'name' and 'phone'"
     ]
    }
   ],
   "source": [
    "student1 = Student()\n",
    "student2 = Student()\n",
    "\n",
    "student1.introduce()\n",
    "# 아래와 같이 속성값을 변경할 경우 self.~인 인스턴스 속성이 작성됨\n",
    "student1.name = '남윤진'\n",
    "student1.phone = '01000000000'\n",
    "# 클래스 속성은 클래스를 사용한 모든 인스턴스에서 공유됨\n",
    "student1.dream.append('창업')\n",
    "student1.introduce()\n",
    "\n",
    "student2.name = '최재동'\n",
    "student2.phone = '01011112222'\n",
    "student2.introduce()\n",
    "\n",
    "student1.introduce()"
   ]
  },
  {
   "cell_type": "code",
   "execution_count": 57,
   "metadata": {},
   "outputs": [
    {
     "ename": "TypeError",
     "evalue": "Student.__init__() missing 2 required positional arguments: 'name' and 'phone'",
     "output_type": "error",
     "traceback": [
      "\u001b[1;31m---------------------------------------------------------------------------\u001b[0m",
      "\u001b[1;31mTypeError\u001b[0m                                 Traceback (most recent call last)",
      "Cell \u001b[1;32mIn[57], line 1\u001b[0m\n\u001b[1;32m----> 1\u001b[0m student \u001b[38;5;241m=\u001b[39m \u001b[43mStudent\u001b[49m\u001b[43m(\u001b[49m\u001b[43m)\u001b[49m\n\u001b[0;32m      3\u001b[0m \u001b[38;5;28mprint\u001b[39m(student\u001b[38;5;241m.\u001b[39mdream)\n\u001b[0;32m      4\u001b[0m student\u001b[38;5;241m.\u001b[39mstudy()\n",
      "\u001b[1;31mTypeError\u001b[0m: Student.__init__() missing 2 required positional arguments: 'name' and 'phone'"
     ]
    }
   ],
   "source": [
    "student = Student()\n",
    "\n",
    "print(student.dream)\n",
    "student.study()\n",
    "\n"
   ]
  },
  {
   "cell_type": "code",
   "execution_count": 15,
   "metadata": {},
   "outputs": [
    {
     "name": "stdout",
     "output_type": "stream",
     "text": [
      "<__main__.Student object at 0x000001DF028ED730>\n",
      "<__main__.Student object at 0x000001DF02933E30>\n"
     ]
    }
   ],
   "source": [
    "student = Student()\n",
    "student_two = Student()\n",
    "\n",
    "print(student)\n",
    "print(student_two)"
   ]
  },
  {
   "cell_type": "code",
   "execution_count": 54,
   "metadata": {},
   "outputs": [],
   "source": [
    "class Student:\n",
    "   \n",
    "   \n",
    "    #1. 생성자\n",
    "    def __init__(self, name, phone):\n",
    "        self.dream = [\"취업\"]\n",
    "        self.name = name\n",
    "        self.phone = phone\n",
    "        \n",
    "    # 3. 매서드\n",
    "\n",
    "    def study(self):\n",
    "        print('오늘도 열심히 공부하는 9기 학생!')\n",
    "\n",
    "    def introduce(self):\n",
    "        print(f'저는 {self.name}이구요, 전화번호는 {self.phone}입니다. 제가 이루고 싶은 목표는! {self.dream}')\n",
    "        "
   ]
  },
  {
   "cell_type": "code",
   "execution_count": 55,
   "metadata": {},
   "outputs": [
    {
     "name": "stdout",
     "output_type": "stream",
     "text": [
      "저는 남윤진이구요, 전화번호는 01049439778입니다. 제가 이루고 싶은 목표는! ['취업']\n",
      "저는 남윤진이구요, 전화번호는 01049439778입니다. 제가 이루고 싶은 목표는! ['취업', '창업']\n",
      "저는 조민훈이구요, 전화번호는 01099998888입니다. 제가 이루고 싶은 목표는! ['취업']\n",
      "저는 남윤진이구요, 전화번호는 01049439778입니다. 제가 이루고 싶은 목표는! ['취업', '창업']\n"
     ]
    }
   ],
   "source": [
    "student1 = Student('남윤진', '01049439778')\n",
    "student2 = Student('조민훈', '01099998888')\n",
    "\n",
    "student1.introduce()\n",
    "\n",
    "student1.dream.append('창업')\n",
    "student1.introduce()\n",
    "\n",
    "student2.introduce()\n",
    "\n",
    "student1.introduce()"
   ]
  },
  {
   "cell_type": "code",
   "execution_count": 64,
   "metadata": {},
   "outputs": [
    {
     "name": "stdout",
     "output_type": "stream",
     "text": [
      "산골짜기다람쥐\n",
      "'Character' object has no attribute '__type'\n",
      "전사\n",
      "법사\n",
      "잘못된 캐릭터 타입을 선택하였습니다.\n"
     ]
    }
   ],
   "source": [
    "class Character:\n",
    "    def __init__(self, nickname, type):\n",
    "        self.nickname = nickname      # Public attribute\n",
    "        self.__type = type            # Private attribute\n",
    "\n",
    "    def get_type(self):\n",
    "        return self.__type\n",
    "\n",
    "    def set_type(self, type):\n",
    "        character_types = ['전사', '법사', '치유사']\n",
    "        for given_type in character_types:\n",
    "            if(type == given_type):\n",
    "                self.__type = type\n",
    "                return\n",
    "        \n",
    "        raise ValueError(\"잘못된 캐릭터 타입을 선택하였습니다.\")\n",
    "\n",
    "my_character = Character(\"산골짜기다람쥐\", \"전사\")\n",
    "\n",
    "print(my_character.nickname)    # 산골짜기다람쥐\n",
    "\n",
    "# Private attribute에 직접 접근 시도 (실패)\n",
    "# try: \n",
    "try:\n",
    "    print(my_character.__type)    # 'Character' object has no attribute '__type'\n",
    "except AttributeError as e:\n",
    "    print(e)\n",
    "\n",
    "# Private attribute에 접근하는 public method 사용\n",
    "print(my_character.get_type())    # 전사\n",
    "\n",
    "# Public method를 통해 private attribute 수정\n",
    "my_character.set_type(\"법사\")\n",
    "print(my_character.get_type())    # 법사\n",
    "\n",
    "# 잘못된 값으로 수정 시도\n",
    "try:\n",
    "    my_character.set_type(\"흑마법사\")    # 잘못된 캐릭터 타입을 선택하였습니다.\n",
    "except ValueError as e:\n",
    "    print(e)\n"
   ]
  },
  {
   "cell_type": "markdown",
   "metadata": {},
   "source": [
    "---\n",
    "## 실습\n"
   ]
  },
  {
   "cell_type": "markdown",
   "metadata": {},
   "source": [
    "### **문제 1: 클래스 속성, 인스턴스 속성 테스트**\n",
    "\n",
    "다람쥐는 이직 준비를 위해 자기소개서를 작성해야 합니다. `Squirrel`이라는 클래스를 만들어 다람쥐의 기본 정보를 설정하세요.\n",
    "\n",
    "1. 클래스 속성 `species`를 설정하여 \"다람쥐\"로 초기화하세요.\n",
    "2. 생성자를 통해 인스턴스 속성 `name`과 `current_job`을 설정하세요.\n",
    "3. 메서드 `introduce`를 만들어 이름과 현재 직업을 소개하는 문자열을 반환하세요.\n",
    "4. 다른 인스턴스를 생성해도 `species`는 공유되지만, `name`과 `current_job`은 서로 독립적임을 확인하세요."
   ]
  },
  {
   "cell_type": "code",
   "execution_count": 8,
   "metadata": {},
   "outputs": [
    {
     "name": "stdout",
     "output_type": "stream",
     "text": [
      "다람쥐\n",
      "제 이름은 name이고, 직업은 current_job입니다.\n"
     ]
    }
   ],
   "source": [
    "class Squirrel:\n",
    "    species = \"다람쥐\"\n",
    "    def __init__(self, name, current_job):\n",
    "        self.name = name\n",
    "        self.current_job = current_job\n",
    "    def introduce(self):\n",
    "        print(f\"제 이름은 {self.name}이고, 직업은 {self.current_job}입니다.\")\n",
    "    \n",
    "squirrel = Squirrel('name', 'current_job')\n",
    "\n",
    "print(squirrel.species)\n",
    "squirrel.introduce()\n",
    "\n",
    "    \n"
   ]
  },
  {
   "cell_type": "code",
   "execution_count": 28,
   "metadata": {},
   "outputs": [],
   "source": [
    "squirrel1 = Squirrel('다람쥐', '맛집감별사')\n"
   ]
  },
  {
   "cell_type": "markdown",
   "metadata": {},
   "source": [
    "### **문제 2: 클래스 속성과 인스턴스 속성의 차이**\n",
    "\n",
    "다람쥐는 이직 준비를 하며 다양한 직업 스킬을 학습 중입니다. 클래스 속성과 인스턴스 속성의 차이를 확인하세요.\n",
    "\n",
    "1. `Character` 클래스를 생성하세요.\n",
    "2. 클래스 속성 `skills`를 정의하여 빈 리스트로 초기화하세요.\n",
    "3. 생성자에서 인스턴스 속성 `skills`를 별도로 초기화하세요.\n",
    "4. `add_skill` 메서드에서 클래스 속성이 아닌 인스턴스 속성에 스킬을 추가하도록 수정하세요."
   ]
  },
  {
   "cell_type": "code",
   "execution_count": 38,
   "metadata": {},
   "outputs": [],
   "source": [
    "class Character:\n",
    "\n",
    "    skills = []\n",
    "    \n",
    "    def __init__(self):\n",
    "        self.skill = []\n",
    "\n",
    "    def add_skill(self, skill):\n",
    "        self.skills.append(skill)\n",
    "\n"
   ]
  },
  {
   "cell_type": "code",
   "execution_count": 37,
   "metadata": {},
   "outputs": [
    {
     "name": "stdout",
     "output_type": "stream",
     "text": [
      "['발목 후리기', '사커 킥', '발목 후리기', '사커 킥']\n"
     ]
    }
   ],
   "source": [
    "my_character = Character()\n",
    "\n",
    "my_character.add_skill('발목 후리기')\n",
    "my_character.add_skill('사커 킥')\n",
    "\n",
    "print(my_character.skills)\n",
    "    "
   ]
  },
  {
   "cell_type": "markdown",
   "metadata": {},
   "source": [
    "### **문제 3: 인스턴스 속성과 클래스 속성의 우선순위**\n",
    "\n",
    "다람쥐는 이직을 위해 별명을 여러 개 사용합니다. 클래스 속성으로 `nickname`을 설정하지만, 각 인스턴스마다 별명을 변경할 수 있습니다.\n",
    "\n",
    "1. `Character` 클래스에 클래스 속성 `nickname`을 설정하세요.\n",
    "2. 생성자에서 인스턴스 속성 `nickname`을 설정하세요.\n",
    "3. 클래스 속성과 인스턴스 속성이 충돌할 때, 인스턴스 속성이 우선됨을 확인하세요."
   ]
  },
  {
   "cell_type": "code",
   "execution_count": 62,
   "metadata": {},
   "outputs": [],
   "source": [
    "class Character:\n",
    "    nickname = '도라에몽'\n",
    "    def __init__(self, nickname):\n",
    "        self.nickname = nickname\n",
    "        \n",
    "        \n",
    "\n",
    "    "
   ]
  },
  {
   "cell_type": "code",
   "execution_count": 63,
   "metadata": {},
   "outputs": [
    {
     "name": "stdout",
     "output_type": "stream",
     "text": [
      "진구구\n",
      "퉁퉁이\n",
      "도라에몽\n"
     ]
    }
   ],
   "source": [
    "my_character = Character('진구구')\n",
    "my_character2 = Character('퉁퉁이')\n",
    "\n",
    "print(my_character.nickname)\n",
    "print(my_character2.nickname)\n",
    "\n",
    "print(Character.nickname)"
   ]
  },
  {
   "cell_type": "markdown",
   "metadata": {},
   "source": [
    "### **문제 4: 네임스페이스 테스트 - 전역과 로컬**\n",
    "\n",
    "다람쥐는 이직 준비 도구를 사용하며, 전역 변수와 로컬 변수를 관리합니다. `namespace_test` 함수를 작성해 네임스페이스를 테스트하세요.\n",
    "\n",
    "1. 전역 변수 `tool`을 \"연필\"로 설정하세요.\n",
    "2. 함수 `namespace_test` 내부에 로컬 변수 `local_tool`을 \"키보드\"로 설정하고, `global` 키워드를 사용해 전역 변수 `tool`을 \"펜\"으로 수정하세요.\n",
    "3. 함수 내부에서 로컬 변수와 전역 변수의 값을 출력하세요."
   ]
  },
  {
   "cell_type": "code",
   "execution_count": 65,
   "metadata": {},
   "outputs": [
    {
     "name": "stdout",
     "output_type": "stream",
     "text": [
      "('키보드', '펜')\n",
      "펜\n"
     ]
    }
   ],
   "source": [
    "tool = '연필'\n",
    "\n",
    "def namespace_test():\n",
    "    \n",
    "    local_tool = '키보드'\n",
    "    \n",
    "    global tool\n",
    "    \n",
    "    tool = '펜'\n",
    "    \n",
    "    return local_tool, tool\n",
    "\n",
    "print(namespace_test())\n",
    "\n",
    "print(tool)"
   ]
  },
  {
   "cell_type": "code",
   "execution_count": 108,
   "metadata": {},
   "outputs": [
    {
     "name": "stdout",
     "output_type": "stream",
     "text": [
      "키보드\n",
      "펜\n"
     ]
    }
   ],
   "source": [
    "tool = '연필'\n",
    "\n",
    "def namespace_test():\n",
    "\n",
    "    local_tool = \"키보드\"\n",
    "\n",
    "    global tool\n",
    "\n",
    "    tool = '펜'\n",
    "\n",
    "    print(local_tool)\n",
    "\n",
    "    print(tool)\n",
    "\n",
    "\n",
    "namespace_test()"
   ]
  },
  {
   "cell_type": "markdown",
   "metadata": {},
   "source": [
    "### **문제 5: 네임스페이스 테스트 - 클래스와 인스턴스**\n",
    "\n",
    "다람쥐는 이직 준비 중 클래스를 통해 도구를 관리합니다. `Toolbox` 클래스를 만들어 네임스페이스를 테스트하세요.\n",
    "\n",
    "1. 클래스 속성 `tools`를 [\"노트북\", \"책상\"]으로 초기화하세요.\n",
    "2. 생성자를 통해 인스턴스 속성 `tools`를 설정하고, 객체마다 다른 도구를 가질 수 있도록 설정하세요.\n",
    "3. `add_tool` 메서드를 만들어 클래스 속성에 새 도구를 추가하세요."
   ]
  },
  {
   "cell_type": "code",
   "execution_count": 106,
   "metadata": {},
   "outputs": [],
   "source": [
    "class Toolbox:\n",
    "    tools = ['노트북', '책상']\n",
    "    \n",
    "    def __init__(self):\n",
    "        self.tools = __class__.tools\n",
    "\n",
    "    def add_tool(self,tool):\n",
    "        self.tools.append(tool)\n",
    "\n",
    "\n"
   ]
  },
  {
   "cell_type": "code",
   "execution_count": 107,
   "metadata": {},
   "outputs": [
    {
     "name": "stdout",
     "output_type": "stream",
     "text": [
      "['노트북', '책상', '망치', '스페너', '의자']\n",
      "['노트북', '책상', '망치', '스페너', '의자']\n",
      "['노트북', '책상', '망치', '스페너', '의자']\n"
     ]
    }
   ],
   "source": [
    "new_tool = Toolbox()\n",
    "\n",
    "new_tool.add_tool('망치')\n",
    "new_tool.add_tool('스페너')\n",
    "new_tool.add_tool('의자')\n",
    "\n",
    "print(new_tool.__class__.tools)\n",
    "print(new_tool.tools)\n",
    "print(Toolbox.tools)\n",
    "\n"
   ]
  },
  {
   "cell_type": "code",
   "execution_count": 116,
   "metadata": {},
   "outputs": [],
   "source": [
    "class Toolbox:\n",
    "    tools = ['노트북', '망치']\n",
    "\n",
    "    def __init__(self):\n",
    "        self.tools = []\n",
    "\n",
    "    def add_tool(self, tool):\n",
    "        __class__.tools.append(tool)\n"
   ]
  },
  {
   "cell_type": "code",
   "execution_count": 117,
   "metadata": {},
   "outputs": [
    {
     "name": "stdout",
     "output_type": "stream",
     "text": [
      "[]\n",
      "['노트북', '망치']\n",
      "[]\n",
      "['노트북', '망치', '콘센트']\n"
     ]
    }
   ],
   "source": [
    "toolbox = Toolbox()\n",
    "\n",
    "print(toolbox.tools)\n",
    "print(Toolbox.tools)\n",
    "\n",
    "toolbox.add_tool('콘센트')\n",
    "print(toolbox.tools)\n",
    "print(Toolbox.tools)"
   ]
  },
  {
   "cell_type": "markdown",
   "metadata": {},
   "source": [
    "### **문제 6: 네임스페이스 테스트 - nonlocal**\n",
    "\n",
    "다람쥐는 이직 준비 중 추가적인 정보가 필요합니다. 중첩 함수와 `nonlocal` 키워드를 사용해 바깥 함수의 변수를 수정하세요.\n",
    "\n",
    "1. 함수 `nested_function`을 작성하세요.\n",
    "2. 바깥 함수의 변수 `status`를 \"작성 중\"으로 초기화하세요.\n",
    "3. 중첩 함수에서 `status`를 \"완료\"로 수정하세요."
   ]
  },
  {
   "cell_type": "code",
   "execution_count": 123,
   "metadata": {},
   "outputs": [
    {
     "name": "stdout",
     "output_type": "stream",
     "text": [
      "작성중\n",
      "완료\n"
     ]
    }
   ],
   "source": [
    "def nested_function():\n",
    "    \n",
    "    status = '작성중'\n",
    "    \n",
    "    def inner_function():\n",
    "        \n",
    "        nonlocal status\n",
    "        \n",
    "        status = \"완료\"\n",
    "        \n",
    "    print(status)\n",
    "    inner_function()\n",
    "    print(status)\n",
    "\n",
    "nested_function()\n",
    "\n"
   ]
  },
  {
   "cell_type": "code",
   "execution_count": 126,
   "metadata": {},
   "outputs": [
    {
     "name": "stdout",
     "output_type": "stream",
     "text": [
      "Hello, This is Python\n",
      "korea\n"
     ]
    }
   ],
   "source": [
    "class Person:\n",
    "    national = \"korea\"\n",
    "    \n",
    "    def greeting(self):\n",
    "        return 'Hello, This is Python'\n",
    "    \n",
    "class Student(Person):\n",
    "    pass\n",
    "\n",
    "student = Student()\n",
    "print(student.greeting())\n",
    "print(student.national)"
   ]
  }
 ],
 "metadata": {
  "kernelspec": {
   "display_name": "pystudy_env",
   "language": "python",
   "name": "python3"
  },
  "language_info": {
   "codemirror_mode": {
    "name": "ipython",
    "version": 3
   },
   "file_extension": ".py",
   "mimetype": "text/x-python",
   "name": "python",
   "nbconvert_exporter": "python",
   "pygments_lexer": "ipython3",
   "version": "3.12.8"
  }
 },
 "nbformat": 4,
 "nbformat_minor": 2
}
