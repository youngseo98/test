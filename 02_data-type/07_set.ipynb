{
 "cells": [
  {
   "cell_type": "markdown",
   "metadata": {},
   "source": [
    "### 셋Set"
   ]
  },
  {
   "cell_type": "code",
   "execution_count": 23,
   "metadata": {},
   "outputs": [],
   "source": [
    "empty_set = set({})\n",
    "number_set = {1}\n",
    "anything = {2024, 12, 20, '오늘은 제어문 배우는 날', True}\n",
    "\n",
    "# 비어있는 셋, 하나만 있는 셋, 자료형을 여러가지 가지는 셋을 만들 수 있다.\n"
   ]
  },
  {
   "cell_type": "code",
   "execution_count": 24,
   "metadata": {},
   "outputs": [
    {
     "data": {
      "text/plain": [
       "set"
      ]
     },
     "execution_count": 24,
     "metadata": {},
     "output_type": "execute_result"
    },
    {
     "ename": "",
     "evalue": "",
     "output_type": "error",
     "traceback": [
      "\u001b[1;31mThe Kernel crashed while executing code in the current cell or a previous cell. \n",
      "\u001b[1;31mPlease review the code in the cell(s) to identify a possible cause of the failure. \n",
      "\u001b[1;31mClick <a href='https://aka.ms/vscodeJupyterKernelCrash'>here</a> for more info. \n",
      "\u001b[1;31mView Jupyter <a href='command:jupyter.viewOutput'>log</a> for further details."
     ]
    }
   ],
   "source": [
    "type(empty_set)"
   ]
  },
  {
   "cell_type": "code",
   "execution_count": 3,
   "metadata": {},
   "outputs": [],
   "source": [
    "animals = {'squirrel', 'sheep', 'tiger', 'monkey', 'squirrel'}"
   ]
  },
  {
   "cell_type": "code",
   "execution_count": 8,
   "metadata": {},
   "outputs": [
    {
     "data": {
      "text/plain": [
       "{'monkey', 'sheep', 'squirrel', 'tiger'}"
      ]
     },
     "execution_count": 8,
     "metadata": {},
     "output_type": "execute_result"
    }
   ],
   "source": [
    "animals\n",
    "\n",
    "# 중복값이 있어도 오류는 일어나지 않지만, 출력은 중복값이 사라진다. \n",
    "# 순서가 없는 자료형임\n",
    "\n"
   ]
  },
  {
   "cell_type": "markdown",
   "metadata": {},
   "source": [
    "---\n",
    "### 셋의 집합 연산\n"
   ]
  },
  {
   "cell_type": "code",
   "execution_count": 10,
   "metadata": {},
   "outputs": [],
   "source": [
    "scd_animals = {'squirrel', 'sheep', 'gorilla', 'bear', 'racoon'}"
   ]
  },
  {
   "cell_type": "code",
   "execution_count": 12,
   "metadata": {},
   "outputs": [
    {
     "name": "stdout",
     "output_type": "stream",
     "text": [
      "{'sheep', 'squirrel', 'monkey', 'gorilla', 'racoon', 'tiger', 'bear'}\n",
      "{'sheep', 'squirrel', 'monkey', 'gorilla', 'racoon', 'tiger', 'bear'}\n",
      "{'squirrel', 'sheep'}\n",
      "{'squirrel', 'sheep'}\n",
      "{'monkey', 'tiger'}\n",
      "{'monkey', 'tiger'}\n",
      "{'tiger', 'monkey', 'gorilla', 'bear', 'racoon'}\n",
      "{'tiger', 'monkey', 'gorilla', 'bear', 'racoon'}\n"
     ]
    }
   ],
   "source": [
    "# 합집합 union\n",
    "print(animals.union(scd_animals))\n",
    "print(animals | scd_animals)\n",
    "\n",
    "# 교집합 intersection\n",
    "print(animals.intersection(scd_animals))\n",
    "print(animals & scd_animals)\n",
    "\n",
    "# 차집합 difference\n",
    "print(animals.difference(scd_animals))\n",
    "print(animals - scd_animals)\n",
    "\n",
    "# 대칭 차집합 symmtric_difference\n",
    "print(animals.symmetric_difference(scd_animals))\n",
    "print(animals ^ scd_animals)"
   ]
  },
  {
   "cell_type": "markdown",
   "metadata": {},
   "source": [
    "---\n",
    "### 실습"
   ]
  },
  {
   "cell_type": "markdown",
   "metadata": {},
   "source": [
    "### **문제 1**\n",
    "\n",
    "다음 조건에 맞는 **셋**을 생성하세요.\n",
    "\n",
    "1. `fruits`라는 셋을 선언하고 `'apple', 'banana', 'cherry'`를 추가하세요.\n",
    "2. `print()`를 사용하여 `fruits`를 출력하세요."
   ]
  },
  {
   "cell_type": "code",
   "execution_count": 14,
   "metadata": {},
   "outputs": [
    {
     "name": "stdout",
     "output_type": "stream",
     "text": [
      "{'apple', 'banana', 'cherry'}\n"
     ]
    }
   ],
   "source": [
    "fruits = {'apple', 'banana', 'cherry'}\n",
    "print(fruits)"
   ]
  },
  {
   "cell_type": "markdown",
   "metadata": {},
   "source": [
    "### **문제 3**\n",
    "\n",
    "다음 조건에 맞게 **집합 연산**을 수행하세요.\n",
    "\n",
    "1. `set1`에 `{1, 2, 3}`을 저장하고, `set2`에 `{3, 4, 5}`를 저장하세요.\n",
    "2. `set1`과 `set2`의 **합집합**을 구해서 출력하세요."
   ]
  },
  {
   "cell_type": "code",
   "execution_count": 18,
   "metadata": {},
   "outputs": [
    {
     "name": "stdout",
     "output_type": "stream",
     "text": [
      "{1, 2, 3, 4, 5}\n",
      "{1, 2, 3, 4, 5}\n"
     ]
    }
   ],
   "source": [
    "set1 = {1, 2, 3}\n",
    "set2 = {3, 4, 5}\n",
    "\n",
    "print(set1 | set2)\n",
    "print(set1.union(set2))"
   ]
  },
  {
   "cell_type": "markdown",
   "metadata": {},
   "source": [
    "### **문제 6**\n",
    "\n",
    "다음 조건에 맞게 **셋의 메서드**를 활용하세요.\n",
    "\n",
    "1. `colors1`에 `'red', 'blue', 'green'`을 저장하세요.\n",
    "2. `colors2`에 `'blue', 'yellow', 'pink'`를 저장하세요.\n",
    "3. 두 셋의 **교집합**을 구하여 출력하세요."
   ]
  },
  {
   "cell_type": "code",
   "execution_count": 20,
   "metadata": {},
   "outputs": [
    {
     "name": "stdout",
     "output_type": "stream",
     "text": [
      "{'blue'}\n",
      "{'blue'}\n"
     ]
    }
   ],
   "source": [
    "colors1 = {'red', 'blue', 'green'}\n",
    "colors2 = {'blue', 'yellow', 'pink'}\n",
    "\n",
    "print(colors1 & colors2)\n",
    "print(colors1.intersection(colors2))"
   ]
  },
  {
   "cell_type": "markdown",
   "metadata": {},
   "source": [
    "### **문제 10**\n",
    "\n",
    "다음 조건에 맞는 프로그램을 작성하세요.\n",
    "\n",
    "1. 두 셋 `A = {1, 2, 3, 4}`와 `B = {3, 4, 5, 6}`가 있습니다.\n",
    "2. `A`와 `B`의 **대칭 차집합**을 구하세요.\n",
    "3. 결과를 `print()`를 사용해 출력하세요."
   ]
  },
  {
   "cell_type": "code",
   "execution_count": 21,
   "metadata": {},
   "outputs": [
    {
     "name": "stdout",
     "output_type": "stream",
     "text": [
      "{1, 2, 5, 6}\n",
      "{1, 2, 5, 6}\n"
     ]
    }
   ],
   "source": [
    "A = {1, 2, 3, 4}\n",
    "B = {3, 4, 5, 6}\n",
    "\n",
    "print(A ^ B)\n",
    "print(A.symmetric_difference(B))\n"
   ]
  },
  {
   "cell_type": "code",
   "execution_count": null,
   "metadata": {},
   "outputs": [],
   "source": []
  }
 ],
 "metadata": {
  "kernelspec": {
   "display_name": "pystudy_env",
   "language": "python",
   "name": "python3"
  },
  "language_info": {
   "codemirror_mode": {
    "name": "ipython",
    "version": 3
   },
   "file_extension": ".py",
   "mimetype": "text/x-python",
   "name": "python",
   "nbconvert_exporter": "python",
   "pygments_lexer": "ipython3",
   "version": "3.12.8"
  }
 },
 "nbformat": 4,
 "nbformat_minor": 2
}
