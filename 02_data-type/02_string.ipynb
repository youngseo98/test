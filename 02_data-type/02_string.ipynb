{
 "cells": [
  {
   "cell_type": "markdown",
   "metadata": {},
   "source": [
    "### 문자열"
   ]
  },
  {
   "cell_type": "code",
   "execution_count": 2,
   "metadata": {},
   "outputs": [],
   "source": [
    "my_name = '김영서'\n",
    "your_name = \"이광운\"\n",
    "error_name = '이건 안돼요~!\"'"
   ]
  },
  {
   "cell_type": "code",
   "execution_count": 3,
   "metadata": {},
   "outputs": [
    {
     "name": "stdout",
     "output_type": "stream",
     "text": [
      "김영서 이광운 이건 안돼요~!\"\n"
     ]
    }
   ],
   "source": [
    "print(my_name, your_name, error_name)"
   ]
  },
  {
   "cell_type": "code",
   "execution_count": 4,
   "metadata": {},
   "outputs": [
    {
     "data": {
      "text/plain": [
       "str"
      ]
     },
     "execution_count": 4,
     "metadata": {},
     "output_type": "execute_result"
    }
   ],
   "source": [
    "type(my_name)"
   ]
  },
  {
   "cell_type": "markdown",
   "metadata": {},
   "source": [
    "---\n",
    "### 문자형의 연산"
   ]
  },
  {
   "cell_type": "code",
   "execution_count": 4,
   "metadata": {},
   "outputs": [
    {
     "name": "stdout",
     "output_type": "stream",
     "text": [
      "오늘의 점심 메뉴는?포케\n",
      "포케포케포케포케포케\n"
     ]
    }
   ],
   "source": [
    "str1 = \"오늘의 점심 메뉴는?\"\n",
    "str2 = \"포케\"\n",
    "\n",
    "print(str1 + str2) # 문자열은 문자열 끼리만 연산 가능\n",
    "#print(str1 - str2)\n",
    "#print(str1 * str2)\n",
    "print(str2 * 5)"
   ]
  },
  {
   "cell_type": "code",
   "execution_count": 4,
   "metadata": {},
   "outputs": [],
   "source": [
    "enroll_date = '2024/12/19'\n",
    "rep_enroll_date = enroll_date.replace(\"/\",\"-\")"
   ]
  },
  {
   "cell_type": "markdown",
   "metadata": {},
   "source": [
    "---\n",
    "### 포맷팅(f-string)"
   ]
  },
  {
   "cell_type": "code",
   "execution_count": 20,
   "metadata": {},
   "outputs": [
    {
     "name": "stdout",
     "output_type": "stream",
     "text": [
      "다람쥐는 겨울철 양식으로 고구마 1000개를 쿠팡했습니다.\n",
      "다람쥐는 겨울철 양식으로 고구마100개를 쿠팡했습니다.\n",
      "다람쥐는 겨울철 양식으로  고구마 1000 개를 쿠팡했습니다.\n",
      "다람쥐는 겨울철 양식으로 고구마 1000 개를 쿠팡했습니다.\n"
     ]
    }
   ],
   "source": [
    "food = \"고구마\"\n",
    "count = 1000\n",
    "\n",
    "\n",
    "print(f'다람쥐는 겨울철 양식으로 {food} {count}개를 쿠팡했습니다.')\n",
    "print('다람쥐는 겨울철 양식으로 ' + food + '100개를 쿠팡했습니다.')\n",
    "print('다람쥐는 겨울철 양식으로 ', food, count, '개를 쿠팡했습니다.')\n",
    "result_str = f'다람쥐는 겨울철 양식으로 {food} {count} 개를 쿠팡했습니다.'\n",
    "print(result_str)\n"
   ]
  },
  {
   "cell_type": "markdown",
   "metadata": {},
   "source": [
    "---\n",
    "### 실습"
   ]
  },
  {
   "cell_type": "markdown",
   "metadata": {},
   "source": [
    "### **문제 1**\n",
    "\n",
    "아래 조건에 맞게 변수를 선언하고 결과를 출력하세요.\n",
    "\n",
    "1. `greeting_message` 변수에 문자열 `\"Hello\"`를 저장합니다.\n",
    "2. `greeting_target` 변수에 `\"World\"`를 저장합니다.\n",
    "3. 두 문자열을 이어 붙여 `\"HelloWorld\"`를 출력하세요."
   ]
  },
  {
   "cell_type": "code",
   "execution_count": 21,
   "metadata": {},
   "outputs": [],
   "source": [
    "greeting_message = \"Hello\"\n",
    "greeting_target = \"World\""
   ]
  },
  {
   "cell_type": "code",
   "execution_count": 28,
   "metadata": {},
   "outputs": [
    {
     "name": "stdout",
     "output_type": "stream",
     "text": [
      "HelloWorld\n"
     ]
    }
   ],
   "source": [
    "print(greeting_message + greeting_target)"
   ]
  },
  {
   "cell_type": "markdown",
   "metadata": {},
   "source": [
    "### **문제 2**\n",
    "\n",
    "1. `age`에 당신의 나이, `city`에 당신의 거주지를 저장합니다.\n",
    "2. f-string을 사용하여 다음 문장과 같은 형태로 출력하세요.\n",
    "    - `\"나는 25살이고, Seoul에 살고 있습니다.\"`"
   ]
  },
  {
   "cell_type": "code",
   "execution_count": 6,
   "metadata": {},
   "outputs": [],
   "source": [
    "age = 27\n",
    "city = \"Yong-in\""
   ]
  },
  {
   "cell_type": "code",
   "execution_count": 7,
   "metadata": {},
   "outputs": [
    {
     "data": {
      "text/plain": [
       "'나는 27살이고, Yong-in에 살고 있습니다.'"
      ]
     },
     "execution_count": 7,
     "metadata": {},
     "output_type": "execute_result"
    }
   ],
   "source": [
    "f\"나는 {age}살이고, {city}에 살고 있습니다.\""
   ]
  },
  {
   "cell_type": "code",
   "execution_count": 8,
   "metadata": {},
   "outputs": [
    {
     "name": "stdout",
     "output_type": "stream",
     "text": [
      "나는 27살이고, Yong-in에 살고 있습니다.\n"
     ]
    }
   ],
   "source": [
    "print(f'나는 {age}살이고, {city}에 살고 있습니다.')"
   ]
  },
  {
   "cell_type": "code",
   "execution_count": 9,
   "metadata": {},
   "outputs": [
    {
     "name": "stdout",
     "output_type": "stream",
     "text": [
      "반갑습니다람쥐\n",
      "반갑습니다. 다람쥐입니다!\n"
     ]
    }
   ],
   "source": [
    "greeting = \"반갑습니\"\n",
    "name = \"다람쥐\"\n",
    "\n",
    "print(greeting + name)\n",
    "print(greeting + \"다. \" + name + \"입니다!\")"
   ]
  },
  {
   "cell_type": "code",
   "execution_count": null,
   "metadata": {},
   "outputs": [],
   "source": []
  }
 ],
 "metadata": {
  "kernelspec": {
   "display_name": "pystudy_env",
   "language": "python",
   "name": "python3"
  },
  "language_info": {
   "codemirror_mode": {
    "name": "ipython",
    "version": 3
   },
   "file_extension": ".py",
   "mimetype": "text/x-python",
   "name": "python",
   "nbconvert_exporter": "python",
   "pygments_lexer": "ipython3",
   "version": "3.12.8"
  }
 },
 "nbformat": 4,
 "nbformat_minor": 2
}
