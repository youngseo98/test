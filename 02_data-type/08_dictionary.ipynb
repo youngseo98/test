{
 "cells": [
  {
   "cell_type": "markdown",
   "metadata": {},
   "source": [
    "### 딕셔너리 (Dictionary)"
   ]
  },
  {
   "cell_type": "code",
   "execution_count": 2,
   "metadata": {},
   "outputs": [],
   "source": [
    "empty_dict = {}\n",
    "my_dict = {\n",
    "    'name' : 'squirrel',\n",
    "    'height' : 190,\n",
    "    'job' : 'teacher',\n",
    "    'bag' : ['ipad', 'water', 'apple'],\n",
    "    'happy' : True\n",
    "    }"
   ]
  },
  {
   "cell_type": "code",
   "execution_count": 3,
   "metadata": {},
   "outputs": [
    {
     "data": {
      "text/plain": [
       "dict"
      ]
     },
     "execution_count": 3,
     "metadata": {},
     "output_type": "execute_result"
    }
   ],
   "source": [
    "type(empty_dict)"
   ]
  },
  {
   "cell_type": "code",
   "execution_count": 6,
   "metadata": {},
   "outputs": [
    {
     "name": "stdout",
     "output_type": "stream",
     "text": [
      "dict_keys(['name', 'height', 'job', 'bag', 'happy'])\n",
      "dict_values(['squirrel', 190, 'teacher', ['ipad', 'water', 'apple'], True])\n",
      "dict_items([('name', 'squirrel'), ('height', 190), ('job', 'teacher'), ('bag', ['ipad', 'water', 'apple']), ('happy', True)])\n"
     ]
    }
   ],
   "source": [
    "print(my_dict.keys()) # 딕셔너리의 모든 키를 반환한다.\n",
    "print(my_dict.values()) # 딕셔너리의 모든 값을 반환한다.\n",
    "print(my_dict.items()) # 딕셔너리의 모든 항목(키-값 쌍)을 반환한다. "
   ]
  },
  {
   "cell_type": "code",
   "execution_count": 7,
   "metadata": {},
   "outputs": [
    {
     "data": {
      "text/plain": [
       "'squirrel'"
      ]
     },
     "execution_count": 7,
     "metadata": {},
     "output_type": "execute_result"
    }
   ],
   "source": [
    "my_dict['name']"
   ]
  },
  {
   "cell_type": "code",
   "execution_count": 8,
   "metadata": {},
   "outputs": [
    {
     "data": {
      "text/plain": [
       "{'name': '다람쥐',\n",
       " 'height': 190,\n",
       " 'job': 'teacher',\n",
       " 'bag': ['ipad', 'water', 'apple'],\n",
       " 'happy': True}"
      ]
     },
     "execution_count": 8,
     "metadata": {},
     "output_type": "execute_result"
    }
   ],
   "source": [
    "my_dict['name'] = '다람쥐'\n",
    "my_dict "
   ]
  },
  {
   "cell_type": "code",
   "execution_count": 10,
   "metadata": {},
   "outputs": [
    {
     "data": {
      "text/plain": [
       "{'name': '다람쥐',\n",
       " 'height': 190,\n",
       " 'job': 'teacher',\n",
       " 'bag': ['ipad', 'water', 'apple'],\n",
       " 'happy': True,\n",
       " 'hobby': 'eat'}"
      ]
     },
     "execution_count": 10,
     "metadata": {},
     "output_type": "execute_result"
    }
   ],
   "source": [
    "my_dict['hobby'] = 'eat' \n",
    "my_dict\n"
   ]
  },
  {
   "cell_type": "code",
   "execution_count": 11,
   "metadata": {},
   "outputs": [
    {
     "data": {
      "text/plain": [
       "{'name': '다람쥐',\n",
       " 'height': 190,\n",
       " 'job': 'teacher',\n",
       " 'bag': ['ipad', 'water', 'apple'],\n",
       " 'hobby': 'eat'}"
      ]
     },
     "execution_count": 11,
     "metadata": {},
     "output_type": "execute_result"
    }
   ],
   "source": [
    "del my_dict['happy']\n",
    "my_dict"
   ]
  },
  {
   "cell_type": "markdown",
   "metadata": {},
   "source": [
    "---\n",
    "### 실습"
   ]
  },
  {
   "cell_type": "markdown",
   "metadata": {},
   "source": [
    "### **문제 4**\n",
    "\n",
    "아래 조건을 만족하는 딕셔너리를 생성하세요.\n",
    "\n",
    "1. `student`라는 이름의 딕셔너리를 선언하고 다음 키-값 쌍을 추가하세요:\n",
    "    - `'name'`: `'John'`\n",
    "    - `'age'`: `20`\n",
    "    - `'major'`: `'Computer Science'`\n",
    "    'age'의 값을 출력하세요."
   ]
  },
  {
   "cell_type": "code",
   "execution_count": 12,
   "metadata": {},
   "outputs": [
    {
     "data": {
      "text/plain": [
       "20"
      ]
     },
     "execution_count": 12,
     "metadata": {},
     "output_type": "execute_result"
    }
   ],
   "source": [
    "student = {\n",
    "    'name' : 'John',\n",
    "    'age' : 20,\n",
    "    'major' : 'Computer Science'\n",
    "}\n",
    "\n",
    "student['age']\n"
   ]
  },
  {
   "cell_type": "markdown",
   "metadata": {},
   "source": [
    "### **문제 5**\n",
    "\n",
    "아래 조건에 맞게 딕셔너리를 수정하세요.\n",
    "\n",
    "1. `scores`라는 딕셔너리에 `'math': 80, 'english': 90`을 저장하세요.\n",
    "2. `'math'`의 값을 `95`로 변경하고 딕셔너리를 출력하세요."
   ]
  },
  {
   "cell_type": "code",
   "execution_count": 14,
   "metadata": {},
   "outputs": [
    {
     "data": {
      "text/plain": [
       "{'math': 95, 'english': 90}"
      ]
     },
     "execution_count": 14,
     "metadata": {},
     "output_type": "execute_result"
    }
   ],
   "source": [
    "scores = {\n",
    "    'math' : 80,\n",
    "    'english' : 90\n",
    "    }\n",
    "\n",
    "scores['math'] = 95\n",
    "scores"
   ]
  },
  {
   "cell_type": "markdown",
   "metadata": {},
   "source": [
    "### **문제 8**\n",
    "\n",
    "다음 조건에 맞게 딕셔너리를 조작하세요.\n",
    "\n",
    "1. `students` 딕셔너리에 `'student1': 85, 'student2': 90, 'student3': 95`를 저장하세요.\n",
    "2. `pop()` 메서드를 사용해 `'student2'`의 값을 제거하고, 제거된 값을 출력하세요."
   ]
  },
  {
   "cell_type": "code",
   "execution_count": 15,
   "metadata": {},
   "outputs": [
    {
     "data": {
      "text/plain": [
       "{'student1': 85, 'student3': 95}"
      ]
     },
     "execution_count": 15,
     "metadata": {},
     "output_type": "execute_result"
    }
   ],
   "source": [
    "student = {\n",
    "    'student1' : 85,\n",
    "    'student2' : 90,\n",
    "    'student3' : 95\n",
    "    }\n",
    "\n",
    "del student['student2']\n",
    "student"
   ]
  },
  {
   "cell_type": "code",
   "execution_count": 18,
   "metadata": {},
   "outputs": [
    {
     "name": "stdout",
     "output_type": "stream",
     "text": [
      "{'student1': 85, 'student3': 95}\n"
     ]
    },
    {
     "ename": "",
     "evalue": "",
     "output_type": "error",
     "traceback": [
      "\u001b[1;31mThe Kernel crashed while executing code in the current cell or a previous cell. \n",
      "\u001b[1;31mPlease review the code in the cell(s) to identify a possible cause of the failure. \n",
      "\u001b[1;31mClick <a href='https://aka.ms/vscodeJupyterKernelCrash'>here</a> for more info. \n",
      "\u001b[1;31mView Jupyter <a href='command:jupyter.viewOutput'>log</a> for further details."
     ]
    }
   ],
   "source": [
    "student = {\n",
    "    'student1' : 85,\n",
    "    'student2' : 90,\n",
    "    'student3' : 95\n",
    "    }\n",
    "\n",
    "tmp = student.pop('student20', 'default')\n",
    "student.pop('student2')\n",
    "print(student)\n",
    "\n"
   ]
  }
 ],
 "metadata": {
  "kernelspec": {
   "display_name": "pystudy_env",
   "language": "python",
   "name": "python3"
  },
  "language_info": {
   "codemirror_mode": {
    "name": "ipython",
    "version": 3
   },
   "file_extension": ".py",
   "mimetype": "text/x-python",
   "name": "python",
   "nbconvert_exporter": "python",
   "pygments_lexer": "ipython3",
   "version": "3.12.8"
  }
 },
 "nbformat": 4,
 "nbformat_minor": 2
}
