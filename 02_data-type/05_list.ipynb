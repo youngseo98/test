{
 "cells": [
  {
   "cell_type": "markdown",
   "metadata": {},
   "source": [
    "### 리스트 (배열)"
   ]
  },
  {
   "cell_type": "code",
   "execution_count": 1,
   "metadata": {},
   "outputs": [],
   "source": [
    "fruits = ['apple', 'cherry', 'orange', 'durian']\n",
    "animals = []\n",
    "anything = [2024, 12, 19, 'python', ['number', 'string', 'boolean'], True]\n"
   ]
  },
  {
   "cell_type": "code",
   "execution_count": 3,
   "metadata": {},
   "outputs": [
    {
     "name": "stdout",
     "output_type": "stream",
     "text": [
      "['red', 'orange', 'yellow', 'green', 'blue', 'navy', 'purple']\n"
     ]
    }
   ],
   "source": [
    "rainbow_str = 'red-orange-yellow-green-blue-navy-purple'\n",
    "rainbow = rainbow_str.split('-')\n",
    "\n",
    "print(rainbow)"
   ]
  },
  {
   "cell_type": "markdown",
   "metadata": {},
   "source": [
    "---\n",
    "### 리스트의 연산"
   ]
  },
  {
   "cell_type": "code",
   "execution_count": 4,
   "metadata": {},
   "outputs": [],
   "source": [
    "added_list = fruits + anything"
   ]
  },
  {
   "cell_type": "code",
   "execution_count": 5,
   "metadata": {},
   "outputs": [
    {
     "name": "stdout",
     "output_type": "stream",
     "text": [
      "['apple', 'cherry', 'orange', 'durian', 2024, 12, 19, 'python', ['number', 'string', 'boolean'], True]\n"
     ]
    }
   ],
   "source": [
    "print(added_list)"
   ]
  },
  {
   "cell_type": "code",
   "execution_count": 6,
   "metadata": {},
   "outputs": [
    {
     "name": "stdout",
     "output_type": "stream",
     "text": [
      "['apple', 'cherry', 'orange', 'durian', 'apple', 'cherry', 'orange', 'durian', 'apple', 'cherry', 'orange', 'durian']\n"
     ]
    }
   ],
   "source": [
    "multiple_list = fruits * 3\n",
    "print(multiple_list)"
   ]
  },
  {
   "cell_type": "markdown",
   "metadata": {},
   "source": [
    "---\n",
    "### 리스트의 매서드"
   ]
  },
  {
   "cell_type": "code",
   "execution_count": 7,
   "metadata": {},
   "outputs": [],
   "source": [
    "num_list = [2024, 12, 19, 16, 9]\n"
   ]
  },
  {
   "cell_type": "code",
   "execution_count": 32,
   "metadata": {},
   "outputs": [
    {
     "data": {
      "text/plain": [
       "[2024, 12, 19, 16, 9, 4]"
      ]
     },
     "execution_count": 32,
     "metadata": {},
     "output_type": "execute_result"
    }
   ],
   "source": [
    "num_list.append(4) # append(?) 요소 추가\n",
    "num_list"
   ]
  },
  {
   "cell_type": "code",
   "execution_count": 33,
   "metadata": {},
   "outputs": [
    {
     "data": {
      "text/plain": [
       "[777, 2024, 12, 19, 16, 9, 4]"
      ]
     },
     "execution_count": 33,
     "metadata": {},
     "output_type": "execute_result"
    }
   ],
   "source": [
    "num_list.insert(0,777) #인덱스 값에 요소 추가\n",
    "num_list"
   ]
  },
  {
   "cell_type": "code",
   "execution_count": 34,
   "metadata": {},
   "outputs": [
    {
     "data": {
      "text/plain": [
       "[2024, 12, 19, 16, 9, 4]"
      ]
     },
     "execution_count": 34,
     "metadata": {},
     "output_type": "execute_result"
    }
   ],
   "source": [
    "num_list.remove(777)\n",
    "num_list"
   ]
  },
  {
   "cell_type": "code",
   "execution_count": null,
   "metadata": {},
   "outputs": [],
   "source": [
    "num_list.remove(4) # 요소 삭제"
   ]
  },
  {
   "cell_type": "code",
   "execution_count": 36,
   "metadata": {},
   "outputs": [
    {
     "data": {
      "text/plain": [
       "[2024, 12, 19, 16, 9]"
      ]
     },
     "execution_count": 36,
     "metadata": {},
     "output_type": "execute_result"
    }
   ],
   "source": [
    "num_list"
   ]
  },
  {
   "cell_type": "code",
   "execution_count": 41,
   "metadata": {},
   "outputs": [
    {
     "data": {
      "text/plain": [
       "[2024, 19, 16, 12, 9]"
      ]
     },
     "execution_count": 41,
     "metadata": {},
     "output_type": "execute_result"
    }
   ],
   "source": [
    "num_list.sort(reverse = True) # 리스트 정렬, reverse = True 역순 정렬\n",
    "num_list"
   ]
  },
  {
   "cell_type": "code",
   "execution_count": 45,
   "metadata": {},
   "outputs": [
    {
     "data": {
      "text/plain": [
       "['apple', 'cherry', 'durian', 'orange']"
      ]
     },
     "execution_count": 45,
     "metadata": {},
     "output_type": "execute_result"
    }
   ],
   "source": [
    "# 참고 (sorted) 정렬 대상이 되는 배열을 집어넣는 함수\n",
    "# 원래 배열을 바꾸진 않음. 정렬 배열을 반환함\n",
    "\n",
    "sorted(fruits)\n",
    "\n",
    "sorted_fruits = sorted(fruits)\n",
    "sorted_fruits\n"
   ]
  },
  {
   "cell_type": "markdown",
   "metadata": {},
   "source": [
    "---\n",
    "###  ☆ 인덱스, 인덱싱과 슬라이싱"
   ]
  },
  {
   "cell_type": "code",
   "execution_count": 47,
   "metadata": {},
   "outputs": [
    {
     "name": "stdout",
     "output_type": "stream",
     "text": [
      "12\n",
      "['number', 'string', 'boolean']\n"
     ]
    }
   ],
   "source": [
    "#anything = [2024, 12, 19, 'python', ['number', 'string', 'boolean'], True]\n",
    "\n",
    "\n",
    "\n",
    "first_ele = anything[1]\n",
    "forth_ele = anything[4]\n",
    "\n",
    "print(first_ele)\n",
    "print(forth_ele)"
   ]
  },
  {
   "cell_type": "code",
   "execution_count": 48,
   "metadata": {},
   "outputs": [
    {
     "name": "stdout",
     "output_type": "stream",
     "text": [
      "True\n"
     ]
    }
   ],
   "source": [
    "print(anything[-1])"
   ]
  },
  {
   "cell_type": "code",
   "execution_count": 49,
   "metadata": {},
   "outputs": [
    {
     "data": {
      "text/plain": [
       "[2024, 12, 19, 'python', ['number', 'string', 'boolean'], False]"
      ]
     },
     "execution_count": 49,
     "metadata": {},
     "output_type": "execute_result"
    }
   ],
   "source": [
    "anything[-1] = False # 리스트의 요소를 수정하려면 인덱스를 쓴다. \n",
    "anything"
   ]
  },
  {
   "cell_type": "code",
   "execution_count": 54,
   "metadata": {},
   "outputs": [],
   "source": [
    "# 슬라이싱은 구간으로 자른다. [a:b] = a이상 b 미만\n",
    "# 연속된 요소만 가져올 수 있음\n",
    "# 슬라이싱 방향은 항상 왼쪽에서 -> 오른쪽으로 \n",
    "\n",
    "today = anything[0:2]"
   ]
  },
  {
   "cell_type": "code",
   "execution_count": 51,
   "metadata": {},
   "outputs": [
    {
     "data": {
      "text/plain": [
       "[2024, 12]"
      ]
     },
     "execution_count": 51,
     "metadata": {},
     "output_type": "execute_result"
    }
   ],
   "source": [
    "today"
   ]
  },
  {
   "cell_type": "code",
   "execution_count": 55,
   "metadata": {},
   "outputs": [],
   "source": [
    "today = anything[0:3]"
   ]
  },
  {
   "cell_type": "code",
   "execution_count": 56,
   "metadata": {},
   "outputs": [
    {
     "data": {
      "text/plain": [
       "[2024, 12, 19]"
      ]
     },
     "execution_count": 56,
     "metadata": {},
     "output_type": "execute_result"
    }
   ],
   "source": [
    "today"
   ]
  },
  {
   "cell_type": "code",
   "execution_count": 58,
   "metadata": {},
   "outputs": [],
   "source": [
    "strs = anything[-3:-1]"
   ]
  },
  {
   "cell_type": "code",
   "execution_count": 59,
   "metadata": {},
   "outputs": [
    {
     "data": {
      "text/plain": [
       "['python', ['number', 'string', 'boolean']]"
      ]
     },
     "execution_count": 59,
     "metadata": {},
     "output_type": "execute_result"
    }
   ],
   "source": [
    "strs"
   ]
  },
  {
   "cell_type": "code",
   "execution_count": 60,
   "metadata": {},
   "outputs": [],
   "source": [
    "strs = anything[:-1]"
   ]
  },
  {
   "cell_type": "code",
   "execution_count": 61,
   "metadata": {},
   "outputs": [
    {
     "data": {
      "text/plain": [
       "[2024, 12, 19, 'python', ['number', 'string', 'boolean']]"
      ]
     },
     "execution_count": 61,
     "metadata": {},
     "output_type": "execute_result"
    }
   ],
   "source": [
    "strs"
   ]
  },
  {
   "cell_type": "code",
   "execution_count": 64,
   "metadata": {},
   "outputs": [
    {
     "data": {
      "text/plain": [
       "['python', ['number', 'string', 'boolean'], False]"
      ]
     },
     "execution_count": 64,
     "metadata": {},
     "output_type": "execute_result"
    }
   ],
   "source": [
    "strs = anything[-3:]\n",
    "strs\n"
   ]
  },
  {
   "cell_type": "code",
   "execution_count": 65,
   "metadata": {},
   "outputs": [],
   "source": [
    "strs = anything[:]"
   ]
  },
  {
   "cell_type": "code",
   "execution_count": 66,
   "metadata": {},
   "outputs": [
    {
     "data": {
      "text/plain": [
       "[2024, 12, 19, 'python', ['number', 'string', 'boolean'], False]"
      ]
     },
     "execution_count": 66,
     "metadata": {},
     "output_type": "execute_result"
    }
   ],
   "source": [
    "strs"
   ]
  },
  {
   "cell_type": "markdown",
   "metadata": {},
   "source": [
    "---\n",
    "### 실습"
   ]
  },
  {
   "cell_type": "markdown",
   "metadata": {},
   "source": [
    "### **문제 1**\n",
    "\n",
    "아래 조건에 맞게 리스트를 선언하고 결과를 출력하세요.\n",
    "\n",
    "1. `fruits`라는 리스트에 다음 요소를 저장하세요.\n",
    "    - `'apple', 'banana', 'cherry'`.\n",
    "2. `print()`를 사용해 `fruits`의 첫 번째 요소와 세 번째 요소를 출력하세요."
   ]
  },
  {
   "cell_type": "code",
   "execution_count": 67,
   "metadata": {},
   "outputs": [
    {
     "name": "stdout",
     "output_type": "stream",
     "text": [
      "apple cherry\n"
     ]
    }
   ],
   "source": [
    "fruits = ['apple', 'banana', 'cherry']\n",
    "print(fruits[0],fruits[2])"
   ]
  },
  {
   "cell_type": "markdown",
   "metadata": {},
   "source": [
    "### **문제 2**\n",
    "\n",
    "다음 조건을 만족하는 리스트를 만드세요.\n",
    "\n",
    "1. `numbers`라는 리스트를 선언하고 숫자 `1`부터 `5`까지 저장하세요.\n",
    "2. 이 리스트의 **길이**를 출력하세요."
   ]
  },
  {
   "cell_type": "code",
   "execution_count": 68,
   "metadata": {},
   "outputs": [
    {
     "name": "stdout",
     "output_type": "stream",
     "text": [
      "5\n"
     ]
    }
   ],
   "source": [
    "numbers = [1, 2, 3, 4, 5]\n",
    "print(len(numbers))"
   ]
  },
  {
   "cell_type": "markdown",
   "metadata": {},
   "source": [
    "### **문제 3**\n",
    "\n",
    "다음 조건에 맞게 리스트를 조작하세요.\n",
    "\n",
    "1. `animals` 리스트에 `'cat', 'dog', 'bird'`를 저장하세요.\n",
    "2. 이 리스트의 마지막에 `'fish'`를 추가하고, 리스트를 출력하세요."
   ]
  },
  {
   "cell_type": "code",
   "execution_count": 93,
   "metadata": {},
   "outputs": [
    {
     "name": "stdout",
     "output_type": "stream",
     "text": [
      "['cat', 'dog', 'bird', 'fish']\n"
     ]
    }
   ],
   "source": [
    "animals = ['cat', 'dog', 'bird']\n",
    "animals.append('fish')\n",
    "print(animals)"
   ]
  },
  {
   "cell_type": "markdown",
   "metadata": {},
   "source": [
    "### **문제 4**\n",
    "\n",
    "아래 조건에 맞는 프로그램을 작성하세요.\n",
    "\n",
    "1. `numbers` 리스트에 숫자 `3, 6, 9`를 저장하세요.\n",
    "2. 리스트의 첫 번째 요소를 **2배**로 만들어 다시 저장하고, 리스트를 출력하세요."
   ]
  },
  {
   "cell_type": "code",
   "execution_count": 77,
   "metadata": {},
   "outputs": [
    {
     "data": {
      "text/plain": [
       "[6, 6, 9]"
      ]
     },
     "execution_count": 77,
     "metadata": {},
     "output_type": "execute_result"
    }
   ],
   "source": [
    "numbers = [3, 6, 9]\n",
    "numbers.insert(0, numbers[0]*2)\n",
    "numbers.remove(3)\n",
    "numbers \n",
    "\n"
   ]
  },
  {
   "cell_type": "code",
   "execution_count": 92,
   "metadata": {},
   "outputs": [
    {
     "name": "stdout",
     "output_type": "stream",
     "text": [
      "[6, 6, 9]\n"
     ]
    }
   ],
   "source": [
    "numbers = [3, 6, 9]\n",
    "numbers.insert(1, numbers[0]*2)\n",
    "numbers.remove(3)\n",
    "print(numbers)"
   ]
  },
  {
   "cell_type": "code",
   "execution_count": 95,
   "metadata": {},
   "outputs": [
    {
     "name": "stdout",
     "output_type": "stream",
     "text": [
      "[6, 6, 9]\n"
     ]
    }
   ],
   "source": [
    "numbers = [3, 6, 9]\n",
    "temp = numbers[0] * 2\n",
    "numbers[0] = temp\n",
    "print(numbers)"
   ]
  },
  {
   "cell_type": "markdown",
   "metadata": {},
   "source": [
    "### **문제 5**\n",
    "\n",
    "아래 문자열을 리스트로 변환하고 결과를 출력하세요.\n",
    "\n",
    "1. 문자열 `'Python-is-fun'`을 `'-'`를 기준으로 분리하여 리스트로 만드세요.\n",
    "2. 결과 리스트를 출력하세요."
   ]
  },
  {
   "cell_type": "code",
   "execution_count": 80,
   "metadata": {},
   "outputs": [],
   "source": [
    "list_sp= ('python-is-fun')\n",
    "list = list_sp.split('-')\n",
    "\n"
   ]
  },
  {
   "cell_type": "code",
   "execution_count": 81,
   "metadata": {},
   "outputs": [
    {
     "data": {
      "text/plain": [
       "['python', 'is', 'fun']"
      ]
     },
     "execution_count": 81,
     "metadata": {},
     "output_type": "execute_result"
    }
   ],
   "source": [
    "list"
   ]
  },
  {
   "cell_type": "code",
   "execution_count": 97,
   "metadata": {},
   "outputs": [
    {
     "name": "stdout",
     "output_type": "stream",
     "text": [
      "['python', 'is', 'fusn']\n"
     ]
    }
   ],
   "source": [
    "my_str = 'python-is-fusn'\n",
    "my_list = my_str.split('-')\n",
    "print(my_list)"
   ]
  },
  {
   "cell_type": "markdown",
   "metadata": {},
   "source": [
    "### **문제 7**\n",
    "\n",
    "아래 조건에 맞게 리스트의 요소를 수정하세요.\n",
    "\n",
    "1. `colors` 리스트에 `'red', 'blue', 'green'`을 저장하세요.\n",
    "2. `'blue'`를 `'yellow'`로 변경하고 리스트를 출력하세요."
   ]
  },
  {
   "cell_type": "code",
   "execution_count": 83,
   "metadata": {},
   "outputs": [],
   "source": [
    "colors =['red', 'blue', 'green']\n",
    "\n",
    "colors.insert(1,'yellow')\n",
    "colors.remove(\"blue\")"
   ]
  },
  {
   "cell_type": "code",
   "execution_count": 84,
   "metadata": {},
   "outputs": [
    {
     "data": {
      "text/plain": [
       "['red', 'yellow', 'green']"
      ]
     },
     "execution_count": 84,
     "metadata": {},
     "output_type": "execute_result"
    }
   ],
   "source": [
    "colors"
   ]
  },
  {
   "cell_type": "code",
   "execution_count": 85,
   "metadata": {},
   "outputs": [
    {
     "data": {
      "text/plain": [
       "['red', 'yellow', 'green']"
      ]
     },
     "execution_count": 85,
     "metadata": {},
     "output_type": "execute_result"
    }
   ],
   "source": [
    "colors =['red', 'blue', 'green']\n",
    "colors[1] = 'yellow'\n",
    "colors"
   ]
  },
  {
   "cell_type": "markdown",
   "metadata": {},
   "source": [
    "### **문제 9**\n",
    "\n",
    "아래 조건에 맞게 리스트와 문자열을 활용하세요.\n",
    "\n",
    "1. 리스트 `words`에 `'Life', 'is', 'too', 'short'`를 저장하세요.\n",
    "2. 리스트의 요소를 공백으로 이어붙여 문자열 `'Life is too short'`를 출력하세요."
   ]
  },
  {
   "cell_type": "code",
   "execution_count": 98,
   "metadata": {},
   "outputs": [
    {
     "name": "stdout",
     "output_type": "stream",
     "text": [
      "Life is too short\n"
     ]
    }
   ],
   "source": [
    "words = ['Life', 'is', 'too', 'short']\n",
    "\n",
    "result = ' '.join(words)\n",
    "\n",
    "print(result)\n",
    "\n"
   ]
  },
  {
   "cell_type": "markdown",
   "metadata": {},
   "source": [
    "### **문제 10**\n",
    "\n",
    "아래 조건에 맞는 프로그램을 작성하세요.\n",
    "\n",
    "1. 리스트 `numbers`에 숫자 `1, 2, 3, 4, 5`를 저장하세요.\n",
    "2. 슬라이싱을 이용하여 다음을 수행하세요:\n",
    "    - 리스트의 **처음 3개의 요소**를 출력하세요.\n",
    "    - 리스트의 **마지막 2개의 요소**를 출력하세요.\n",
    "    - 리스트의 **모든 요소를 역순**으로 출력하세요."
   ]
  },
  {
   "cell_type": "code",
   "execution_count": 102,
   "metadata": {},
   "outputs": [
    {
     "name": "stdout",
     "output_type": "stream",
     "text": [
      "[1, 2, 3]\n",
      "[4, 5]\n",
      "[4, 5]\n",
      "[1, 2, 3, 4, 5]\n",
      "[5, 3, 1]\n",
      "[5, 4, 3, 2, 1]\n"
     ]
    }
   ],
   "source": [
    "numbers = [1, 2, 3, 4, 5]\n",
    "\n",
    "print(numbers[:3])\n",
    "print(numbers[3:])\n",
    "print(numbers[-2:])\n",
    "numbers.sort(reverse = True)\n",
    "print(numbers[::-1])\n",
    "print(numbers[0:5:2])\n",
    "print(numbers)"
   ]
  },
  {
   "cell_type": "code",
   "execution_count": null,
   "metadata": {},
   "outputs": [],
   "source": []
  }
 ],
 "metadata": {
  "kernelspec": {
   "display_name": "pystudy_env",
   "language": "python",
   "name": "python3"
  },
  "language_info": {
   "codemirror_mode": {
    "name": "ipython",
    "version": 3
   },
   "file_extension": ".py",
   "mimetype": "text/x-python",
   "name": "python",
   "nbconvert_exporter": "python",
   "pygments_lexer": "ipython3",
   "version": "3.12.8"
  }
 },
 "nbformat": 4,
 "nbformat_minor": 2
}
