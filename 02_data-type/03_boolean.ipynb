{
 "cells": [
  {
   "cell_type": "markdown",
   "metadata": {},
   "source": [
    "### 논리형"
   ]
  },
  {
   "cell_type": "code",
   "execution_count": 3,
   "metadata": {},
   "outputs": [],
   "source": [
    "bool1 = True\n",
    "bool2 = False # '',\"\" 를 붙이면 문자열이 됨.\n"
   ]
  },
  {
   "cell_type": "code",
   "execution_count": 4,
   "metadata": {},
   "outputs": [
    {
     "data": {
      "text/plain": [
       "bool"
      ]
     },
     "execution_count": 4,
     "metadata": {},
     "output_type": "execute_result"
    }
   ],
   "source": [
    "type(bool1)\n",
    "type(bool2)"
   ]
  },
  {
   "cell_type": "markdown",
   "metadata": {},
   "source": [
    "---\n",
    "### 논리형의 연산"
   ]
  },
  {
   "cell_type": "code",
   "execution_count": 6,
   "metadata": {},
   "outputs": [
    {
     "name": "stdout",
     "output_type": "stream",
     "text": [
      "False\n",
      "True\n",
      "True\n",
      "True\n",
      "False\n",
      "True\n",
      "False\n",
      "False\n"
     ]
    }
   ],
   "source": [
    "print(\"hello\" == \"Hello\") #False   == 값이 동일한지 비교해서 같으면 True, 다르면 False\n",
    "print(100 == 100)         #True\n",
    "print('hello' != 'Hello') #True    != 같지 않은지 비교해서 서로 다르면 True, 같으면 False\n",
    "print(10 > 9)             #True \n",
    "print(10 < 9)             #False\n",
    "print(10 >= 9)            #True\n",
    "print(10 <= 9)            #False\n",
    "print('a' < 'A')          #False\n",
    "\n",
    "# 문자 자료형에서 소문자와 대문자는 같지 않다. \n",
    "# 컴퓨터는 내부적으로 소문자와 대문자를 아스키코드표에 의해 해석하기 때문이다.\n",
    "#  (아스키코드표 상에서 대문자가 소문자보다 작은 수이다.)"
   ]
  },
  {
   "cell_type": "code",
   "execution_count": 8,
   "metadata": {},
   "outputs": [
    {
     "name": "stdout",
     "output_type": "stream",
     "text": [
      "True\n",
      "False\n",
      "False\n"
     ]
    }
   ],
   "source": [
    "print(True and True)    # True\n",
    "print(True and False)   # False\n",
    "print(False and False)  # False\n",
    "\n",
    "# 둘다 True 일 때만 True. 하나라도 False면 False"
   ]
  },
  {
   "cell_type": "code",
   "execution_count": 7,
   "metadata": {},
   "outputs": [
    {
     "name": "stdout",
     "output_type": "stream",
     "text": [
      "True\n",
      "True\n",
      "False\n"
     ]
    }
   ],
   "source": [
    "print(True or True)   # True\n",
    "print(True or False)  # True\n",
    "print(False or False) # False\n",
    "\n",
    "# 하나라도 True면 True."
   ]
  },
  {
   "cell_type": "code",
   "execution_count": 10,
   "metadata": {},
   "outputs": [
    {
     "name": "stdout",
     "output_type": "stream",
     "text": [
      "False\n"
     ]
    }
   ],
   "source": [
    "print(not True)\n",
    "\n",
    "# 논리 연산의 값을 뒤집음"
   ]
  },
  {
   "cell_type": "code",
   "execution_count": 33,
   "metadata": {},
   "outputs": [
    {
     "name": "stdout",
     "output_type": "stream",
     "text": [
      "True\n",
      "True\n",
      "False\n",
      "False\n",
      "True\n",
      "False\n",
      "False\n"
     ]
    }
   ],
   "source": [
    "name = \"다람쥐\"\n",
    "age = 20\n",
    "gender = 'male'\n",
    "\n",
    "# 1. 이름이 다람쥐면 True\n",
    "print(name == \"다람쥐\")\n",
    "\n",
    "# 2. 성인이면 True, (19세 이상을 성인이라고 기준함)\n",
    "print(age >= 19) \n",
    "\n",
    "# 3. 성인이면서 여성이면 True\n",
    "print(age >= 19 and gender == \"female\")\n",
    "\n",
    "# 4. 이름이 호랑이이면서 성인이면서 남성이면 True\n",
    "print(name == \"호랑이\" and age >= 19 and gender == \"male\")\n",
    "# 이름과 나이 부터 연산 \n",
    "\n",
    "# 5. 이름이 다람쥐이거나 성인이면 True\n",
    "print(name == \"다람쥐\" or age >= 19) \n",
    "\n",
    "# 6. 이름이 다람쥐가 아니면 True (논리연산 not 이용)\n",
    "print(not name == \"다람쥐\")\n",
    "print(name != \"다람쥐\")"
   ]
  },
  {
   "cell_type": "code",
   "execution_count": 34,
   "metadata": {},
   "outputs": [
    {
     "name": "stdout",
     "output_type": "stream",
     "text": [
      "True\n",
      "True\n",
      "False\n",
      "False\n",
      "True\n",
      "False\n",
      "False\n"
     ]
    }
   ],
   "source": [
    "print(name == \"다람쥐\")\n",
    "print(age >= 19) \n",
    "print(age >= 19 and gender == \"female\")\n",
    "print(name == \"호랑이\" and age >= 19 and gender == \"male\")\n",
    "print(name == \"다람쥐\" or age >= 19) \n",
    "print(not name == \"다람쥐\")\n",
    "print(name != \"다람쥐\")"
   ]
  },
  {
   "cell_type": "code",
   "execution_count": 39,
   "metadata": {},
   "outputs": [
    {
     "name": "stdout",
     "output_type": "stream",
     "text": [
      "안녕하세요\n",
      "저는 다람쥐 입니다.\n",
      "파이썬은 정말 재밌어요.\n"
     ]
    }
   ],
   "source": [
    "print(\"안녕하세요\")\n",
    "print(\"저는 다람쥐 입니다.\")\n",
    "print(\"파이썬은 정말 재밌어요.\")"
   ]
  },
  {
   "cell_type": "code",
   "execution_count": null,
   "metadata": {},
   "outputs": [],
   "source": []
  }
 ],
 "metadata": {
  "kernelspec": {
   "display_name": "pystudy_env",
   "language": "python",
   "name": "python3"
  },
  "language_info": {
   "codemirror_mode": {
    "name": "ipython",
    "version": 3
   },
   "file_extension": ".py",
   "mimetype": "text/x-python",
   "name": "python",
   "nbconvert_exporter": "python",
   "pygments_lexer": "ipython3",
   "version": "3.12.8"
  }
 },
 "nbformat": 4,
 "nbformat_minor": 2
}
