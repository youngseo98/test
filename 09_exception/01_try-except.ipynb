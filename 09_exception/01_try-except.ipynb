{
 "cells": [
  {
   "cell_type": "markdown",
   "metadata": {},
   "source": [
    "### 예외처리\n"
   ]
  },
  {
   "cell_type": "code",
   "execution_count": 1,
   "metadata": {},
   "outputs": [],
   "source": [
    "class NotMyTeadcher(Exception):\n",
    "    pass \n"
   ]
  },
  {
   "cell_type": "code",
   "execution_count": 4,
   "metadata": {},
   "outputs": [
    {
     "ename": "NotMyTeadcher",
     "evalue": "선생님 이름도 모르다니...!",
     "output_type": "error",
     "traceback": [
      "\u001b[1;31m---------------------------------------------------------------------------\u001b[0m",
      "\u001b[1;31mNotMyTeadcher\u001b[0m                             Traceback (most recent call last)",
      "Cell \u001b[1;32mIn[4], line 6\u001b[0m\n\u001b[0;32m      4\u001b[0m     \u001b[38;5;28mprint\u001b[39m(\u001b[38;5;124m'\u001b[39m\u001b[38;5;124m훌륭합니다!\u001b[39m\u001b[38;5;124m'\u001b[39m)\n\u001b[0;32m      5\u001b[0m \u001b[38;5;28;01melse\u001b[39;00m:\n\u001b[1;32m----> 6\u001b[0m     \u001b[38;5;28;01mraise\u001b[39;00m NotMyTeadcher(\u001b[38;5;124m'\u001b[39m\u001b[38;5;124m선생님 이름도 모르다니...!\u001b[39m\u001b[38;5;124m'\u001b[39m) \n",
      "\u001b[1;31mNotMyTeadcher\u001b[0m: 선생님 이름도 모르다니...!"
     ]
    }
   ],
   "source": [
    "teacher_name = input('당신의 선생님 이름은 무엇입니까? ')\n",
    "\n",
    "if teacher_name == '다람쥐':\n",
    "    print('훌륭합니다!')\n",
    "else:\n",
    "    raise NotMyTeadcher('선생님 이름도 모르다니...!') \n",
    "\n"
   ]
  },
  {
   "cell_type": "code",
   "execution_count": 18,
   "metadata": {},
   "outputs": [
    {
     "name": "stdout",
     "output_type": "stream",
     "text": [
      "예외가 발생했습니다!!!!!!\n",
      "그러나 중단되지는 않았어요~~~~~~~~~~~~~~\n"
     ]
    }
   ],
   "source": [
    "def check_teacher(teacher_name):\n",
    "    if teacher_name == '다람쥐':\n",
    "        print('훌륭합니다!')\n",
    "    else:\n",
    "        raise NotMyTeadcher('선생님 이름도 모르다니...!')\n",
    "\n",
    "try:\n",
    "    check_teacher('호랑이') # 실행동중 예외상황을 만나면 중단됨\n",
    "    check_teacher('다람쥐') \n",
    "    print('이건 출력되지 않아요!')\n",
    "except:\n",
    "    print('예외가 발생했습니다!!!!!!')\n",
    "\n",
    "print(\"그러나 중단되지는 않았어요~~~~~~~~~~~~~~\")\n"
   ]
  },
  {
   "cell_type": "code",
   "execution_count": 23,
   "metadata": {},
   "outputs": [
    {
     "name": "stdout",
     "output_type": "stream",
     "text": [
      "12\n",
      "0으로는 나눌 수 없습니다.\n"
     ]
    }
   ],
   "source": [
    "try:\n",
    "    test_list = [2024, 12, 26]\n",
    "    print(test_list[1])\n",
    "    print(2024 / 0)\n",
    "except IndexError:\n",
    "    print('인덱싱 범위를 초과했습니다.')\n",
    "except ZeroDivisionError:\n",
    "    print('0으로는 나눌 수 없습니다.')  # except 구문을 붙여서 특수에러에 대해 표현 가능"
   ]
  },
  {
   "cell_type": "code",
   "execution_count": 20,
   "metadata": {},
   "outputs": [
    {
     "ename": "ZeroDivisionError",
     "evalue": "division by zero",
     "output_type": "error",
     "traceback": [
      "\u001b[1;31m---------------------------------------------------------------------------\u001b[0m",
      "\u001b[1;31mZeroDivisionError\u001b[0m                         Traceback (most recent call last)",
      "Cell \u001b[1;32mIn[20], line 1\u001b[0m\n\u001b[1;32m----> 1\u001b[0m \u001b[38;5;28mprint\u001b[39m(\u001b[38;5;241;43m2024\u001b[39;49m\u001b[43m \u001b[49m\u001b[38;5;241;43m/\u001b[39;49m\u001b[43m \u001b[49m\u001b[38;5;241;43m0\u001b[39;49m)\n",
      "\u001b[1;31mZeroDivisionError\u001b[0m: division by zero"
     ]
    }
   ],
   "source": [
    "print(2024 / 0)"
   ]
  },
  {
   "cell_type": "code",
   "execution_count": 38,
   "metadata": {},
   "outputs": [
    {
     "name": "stdout",
     "output_type": "stream",
     "text": [
      "12\n",
      "1012.0\n",
      "else는 언제 실행될까요?예외가 발생하지 않았을 때, (try 구문 내 코드가 정상 동작했을 때 실행됨.\n",
      "finally는 언제 실행될까요?언제나 실행됨. 비정상이여도 정상이여도 실행됨.\n"
     ]
    }
   ],
   "source": [
    "try:\n",
    "    idx = int(input('index 숫자: '))\n",
    "    test_list = [2024, 12, 26]\n",
    "    print(test_list[idx])\n",
    "\n",
    "    num = int(input('나누는 수: '))\n",
    "    print(2024 / num)\n",
    "\n",
    "except IndexError:\n",
    "    print('인덱싱 범위를 초과했습니다.')\n",
    "\n",
    "except ZeroDivisionError:\n",
    "    print('0으로는 나눌 수 없습니다.')  # except 구문을 붙여서 특수에러에 대해 표현 가능\n",
    "\n",
    "else:\n",
    "    print('else는 언제 실행될까요?예외가 발생하지 않았을 때, (try 구문 내 코드가 정상 동작했을 때 실행됨.')\n",
    "\n",
    "finally:\n",
    "    print('finally는 언제 실행될까요?언제나 실행됨. 비정상이여도 정상이여도 실행됨.') "
   ]
  },
  {
   "cell_type": "markdown",
   "metadata": {},
   "source": [
    "---\n",
    "### 실습"
   ]
  },
  {
   "cell_type": "code",
   "execution_count": 17,
   "metadata": {},
   "outputs": [
    {
     "name": "stdout",
     "output_type": "stream",
     "text": [
      "파일이 존재하지 않습니다.\n"
     ]
    }
   ],
   "source": [
    "try:\n",
    "    with open('data.txt', 'r', encoding= 'utf-8') as f:\n",
    "        f.read = f.read()\n",
    "except:\n",
    "    print('파일이 존재하지 않습니다.')\n",
    "\n",
    "    "
   ]
  },
  {
   "cell_type": "code",
   "execution_count": 22,
   "metadata": {},
   "outputs": [
    {
     "name": "stdout",
     "output_type": "stream",
     "text": [
      "숫자를 입력해야 합니다.\n"
     ]
    }
   ],
   "source": [
    "\n",
    "try:\n",
    "    age = int(input('나이가 어떻게 되나요?: '))\n",
    "    if age >= 19:\n",
    "        print('성인입니다.')\n",
    "    else:\n",
    "        print('미성년자 입니다.')\n",
    "\n",
    "except ValueError:\n",
    "    print('숫자를 입력해야 합니다.')"
   ]
  },
  {
   "cell_type": "code",
   "execution_count": 33,
   "metadata": {},
   "outputs": [
    {
     "name": "stdout",
     "output_type": "stream",
     "text": [
      "0으로 나눌 수 없습니다.\n"
     ]
    }
   ],
   "source": [
    "class Msg(Exception):\n",
    "    pass\n",
    "\n",
    "\n",
    "try:\n",
    "    a = int(input('첫번째 숫자: '))\n",
    "    b = int(input('두번째 숫자: '))\n",
    "    print(a / b)\n",
    "    \n",
    "except ZeroDivisionError:\n",
    "    print('0으로 나눌 수 없습니다.')\n",
    "except:\n",
    "    raise Msg('숫자를 입력해야 합니다.')\n",
    "    \n",
    "    \n"
   ]
  },
  {
   "cell_type": "code",
   "execution_count": 54,
   "metadata": {},
   "outputs": [
    {
     "name": "stdout",
     "output_type": "stream",
     "text": [
      "파일을 열 수 없습니다.\n",
      "파일 자원 정리 완료.\n"
     ]
    }
   ],
   "source": [
    "\n",
    "\n",
    "\n",
    "try:\n",
    "    f= open('log.txt', 'r', encoding= 'utf-8')\n",
    "    print(f.read())\n",
    "\n",
    "    # with open('log.txt', 'r', encoding='utf-8') as f:\n",
    "    #     print(f.read())\n",
    "\n",
    "except FileNotFoundError:\n",
    "    print('파일을 열 수 없습니다.')\n",
    "\n",
    "finally:\n",
    "    if f:\n",
    "        f.close()\n",
    "    print('파일 자원 정리 완료.')\n",
    "              "
   ]
  },
  {
   "cell_type": "code",
   "execution_count": 52,
   "metadata": {},
   "outputs": [
    {
     "name": "stdout",
     "output_type": "stream",
     "text": [
      "228.0\n"
     ]
    }
   ],
   "source": [
    "try:\n",
    "    num = int(input('숫자 입력: '))\n",
    "\n",
    "\n",
    "except ValueError:\n",
    "    print('숫자를 입력해야 합니다.')\n",
    "\n",
    "else:\n",
    "    print(num / 2)"
   ]
  },
  {
   "cell_type": "code",
   "execution_count": 53,
   "metadata": {},
   "outputs": [
    {
     "name": "stdout",
     "output_type": "stream",
     "text": [
      "28.0\n"
     ]
    }
   ],
   "source": [
    "try:\n",
    "    num = int(input('숫자 입력: '))\n",
    "    print(num / 2)\n",
    "except ValueError:\n",
    "    print('숫자를 입력해야 합니다.')\n",
    "\n"
   ]
  }
 ],
 "metadata": {
  "kernelspec": {
   "display_name": "pystudy_env",
   "language": "python",
   "name": "python3"
  },
  "language_info": {
   "codemirror_mode": {
    "name": "ipython",
    "version": 3
   },
   "file_extension": ".py",
   "mimetype": "text/x-python",
   "name": "python",
   "nbconvert_exporter": "python",
   "pygments_lexer": "ipython3",
   "version": "3.12.8"
  }
 },
 "nbformat": 4,
 "nbformat_minor": 2
}
